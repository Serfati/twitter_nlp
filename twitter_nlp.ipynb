{
 "metadata": {
  "language_info": {
   "codemirror_mode": {
    "name": "ipython",
    "version": 3
   },
   "file_extension": ".py",
   "mimetype": "text/x-python",
   "name": "python",
   "nbconvert_exporter": "python",
   "pygments_lexer": "ipython3",
   "version": "3.8.5-final"
  },
  "orig_nbformat": 2,
  "kernelspec": {
   "name": "python38564bit39bc59e53f6c44bdbcea093f1a11cc78",
   "display_name": "Python 3.8.5 64-bit",
   "language": "python"
  }
 },
 "nbformat": 4,
 "nbformat_minor": 2,
 "cells": [
  {
   "source": [
    "1. Understand the Problem Statement\n",
    "2. Tweets Preprocessing and Cleaning\n",
    "  1. Data Inspection\n",
    "  2. Data Cleaning\n",
    "3. Story Generation and Visualization from Tweets\n",
    "4. Extracting Features from Cleaned Tweets\n",
    "  1. Bag-of-Words\n",
    "  2. TF-IDF\n",
    "  3. Word Embeddings\n",
    "5. Model Building: Sentiment Analysis\n",
    "  1. Logistic Regression\n",
    "  2. Support Vector Machine\n",
    "  3. RandomForest\n",
    "  4. XGBoost\n",
    "6. Model Fine-tuning\n",
    "7. Summary"
   ],
   "cell_type": "markdown",
   "metadata": {}
  },
  {
   "cell_type": "code",
   "execution_count": 81,
   "metadata": {},
   "outputs": [],
   "source": [
    "import numpy as np\n",
    "import pandas as pd\n",
    "import matplotlib.pyplot as plt\n",
    "import seaborn as sns\n",
    "import nltk\n",
    "from nltk.corpus import stopwords\n",
    "from nltk.stem import PorterStemmer,WordNetLemmatizer\n",
    "import textblob\n",
    "from textblob import TextBlob, Word\n",
    "from sklearn.feature_extraction.text import TfidfVectorizer,CountVectorizer\n",
    "from sklearn.model_selection import train_test_split\n",
    "import os"
   ]
  },
  {
   "cell_type": "code",
   "execution_count": 82,
   "metadata": {},
   "outputs": [],
   "source": [
    "%matplotlib inline\n",
    "sns.set(style=\"darkgrid\")\n",
    "plt.style.use('seaborn')"
   ]
  },
  {
   "source": [
    "## 1. Loading the dataset"
   ],
   "cell_type": "markdown",
   "metadata": {}
  },
  {
   "cell_type": "code",
   "execution_count": 83,
   "metadata": {},
   "outputs": [],
   "source": [
    "df=pd.read_csv('Train.csv',encoding=\"ISO-8859-1\")\n",
    "testdf=pd.read_csv('Test.csv',encoding=\"ISO-8859-1\")"
   ]
  },
  {
   "cell_type": "code",
   "execution_count": 84,
   "metadata": {},
   "outputs": [
    {
     "output_type": "execute_result",
     "data": {
      "text/plain": [
       "   Sentiment                                      SentimentText\n",
       "0          1  @coffeebased thanks so much  hehe. Will be twe...\n",
       "1          0  @cakes4rockstarz at least  it'd be a delicious...\n",
       "2          1  @bretharrison Reaper's my favorite show! Kept ...\n",
       "3          0  @AGraham1206 Lotsa work....   I'm trying to ge...\n",
       "4          1  @ 4:30 I will Tweet the #Zazzle galleries for ..."
      ],
      "text/html": "<div>\n<style scoped>\n    .dataframe tbody tr th:only-of-type {\n        vertical-align: middle;\n    }\n\n    .dataframe tbody tr th {\n        vertical-align: top;\n    }\n\n    .dataframe thead th {\n        text-align: right;\n    }\n</style>\n<table border=\"1\" class=\"dataframe\">\n  <thead>\n    <tr style=\"text-align: right;\">\n      <th></th>\n      <th>Sentiment</th>\n      <th>SentimentText</th>\n    </tr>\n  </thead>\n  <tbody>\n    <tr>\n      <th>0</th>\n      <td>1</td>\n      <td>@coffeebased thanks so much  hehe. Will be twe...</td>\n    </tr>\n    <tr>\n      <th>1</th>\n      <td>0</td>\n      <td>@cakes4rockstarz at least  it'd be a delicious...</td>\n    </tr>\n    <tr>\n      <th>2</th>\n      <td>1</td>\n      <td>@bretharrison Reaper's my favorite show! Kept ...</td>\n    </tr>\n    <tr>\n      <th>3</th>\n      <td>0</td>\n      <td>@AGraham1206 Lotsa work....   I'm trying to ge...</td>\n    </tr>\n    <tr>\n      <th>4</th>\n      <td>1</td>\n      <td>@ 4:30 I will Tweet the #Zazzle galleries for ...</td>\n    </tr>\n  </tbody>\n</table>\n</div>"
     },
     "metadata": {},
     "execution_count": 84
    }
   ],
   "source": [
    "df.head()"
   ]
  },
  {
   "cell_type": "code",
   "execution_count": 85,
   "metadata": {},
   "outputs": [
    {
     "output_type": "execute_result",
     "data": {
      "text/plain": [
       "Sentiment        0\n",
       "SentimentText    0\n",
       "dtype: int64"
      ]
     },
     "metadata": {},
     "execution_count": 85
    }
   ],
   "source": [
    "#Missing Values If Any\n",
    "df.isna().sum()"
   ]
  },
  {
   "cell_type": "code",
   "execution_count": 86,
   "metadata": {},
   "outputs": [
    {
     "output_type": "stream",
     "name": "stdout",
     "text": [
      "34875 Negative Tweets\n45123 Posistive Tweets\n"
     ]
    }
   ],
   "source": [
    "print(len(df[df.Sentiment == 0]), 'Negative Tweets')\n",
    "print(len(df[df.Sentiment == 1]), 'Posistive Tweets')\n",
    "# Class distribution in this data seems to be imbalanced.\n",
    "# F1 score should be used fot model performance evaluation in such situation."
   ]
  },
  {
   "cell_type": "code",
   "execution_count": 87,
   "metadata": {},
   "outputs": [
    {
     "output_type": "execute_result",
     "data": {
      "text/plain": [
       "col_0      count\n",
       "Sentiment       \n",
       "0          34875\n",
       "1          45123"
      ],
      "text/html": "<div>\n<style scoped>\n    .dataframe tbody tr th:only-of-type {\n        vertical-align: middle;\n    }\n\n    .dataframe tbody tr th {\n        vertical-align: top;\n    }\n\n    .dataframe thead th {\n        text-align: right;\n    }\n</style>\n<table border=\"1\" class=\"dataframe\">\n  <thead>\n    <tr style=\"text-align: right;\">\n      <th>col_0</th>\n      <th>count</th>\n    </tr>\n    <tr>\n      <th>Sentiment</th>\n      <th></th>\n    </tr>\n  </thead>\n  <tbody>\n    <tr>\n      <th>0</th>\n      <td>34875</td>\n    </tr>\n    <tr>\n      <th>1</th>\n      <td>45123</td>\n    </tr>\n  </tbody>\n</table>\n</div>"
     },
     "metadata": {},
     "execution_count": 87
    }
   ],
   "source": [
    "pd.crosstab(index=df['Sentiment'],columns='count')"
   ]
  },
  {
   "cell_type": "code",
   "execution_count": 89,
   "metadata": {},
   "outputs": [
    {
     "output_type": "execute_result",
     "data": {
      "text/plain": [
       "<AxesSubplot:xlabel='Sentiment', ylabel='count'>"
      ]
     },
     "metadata": {},
     "execution_count": 89
    },
    {
     "output_type": "display_data",
     "data": {
      "text/plain": "<Figure size 576x396 with 1 Axes>",
      "image/svg+xml": "<?xml version=\"1.0\" encoding=\"utf-8\" standalone=\"no\"?>\n<!DOCTYPE svg PUBLIC \"-//W3C//DTD SVG 1.1//EN\"\n  \"http://www.w3.org/Graphics/SVG/1.1/DTD/svg11.dtd\">\n<!-- Created with matplotlib (https://matplotlib.org/) -->\n<svg height=\"343.955938pt\" version=\"1.1\" viewBox=\"0 0 509.85875 343.955938\" width=\"509.85875pt\" xmlns=\"http://www.w3.org/2000/svg\" xmlns:xlink=\"http://www.w3.org/1999/xlink\">\n <metadata>\n  <rdf:RDF xmlns:cc=\"http://creativecommons.org/ns#\" xmlns:dc=\"http://purl.org/dc/elements/1.1/\" xmlns:rdf=\"http://www.w3.org/1999/02/22-rdf-syntax-ns#\">\n   <cc:Work>\n    <dc:type rdf:resource=\"http://purl.org/dc/dcmitype/StillImage\"/>\n    <dc:date>2020-12-16T15:05:45.379034</dc:date>\n    <dc:format>image/svg+xml</dc:format>\n    <dc:creator>\n     <cc:Agent>\n      <dc:title>Matplotlib v3.3.3, https://matplotlib.org/</dc:title>\n     </cc:Agent>\n    </dc:creator>\n   </cc:Work>\n  </rdf:RDF>\n </metadata>\n <defs>\n  <style type=\"text/css\">*{stroke-linecap:butt;stroke-linejoin:round;}</style>\n </defs>\n <g id=\"figure_1\">\n  <g id=\"patch_1\">\n   <path d=\"M 0 343.955938 \nL 509.85875 343.955938 \nL 509.85875 0 \nL 0 0 \nz\n\" style=\"fill:#ffffff;\"/>\n  </g>\n  <g id=\"axes_1\">\n   <g id=\"patch_2\">\n    <path d=\"M 56.25875 306.18 \nL 502.65875 306.18 \nL 502.65875 7.2 \nL 56.25875 7.2 \nz\n\" style=\"fill:#eaeaf2;\"/>\n   </g>\n   <g id=\"matplotlib.axis_1\">\n    <g id=\"xtick_1\">\n     <g id=\"text_1\">\n      <!-- 0 -->\n      <g style=\"fill:#262626;\" transform=\"translate(165.078281 320.426875)scale(0.1 -0.1)\">\n       <defs>\n        <path d=\"M 51.703125 34.421875 \nQ 51.703125 17.1875 45.625 8.09375 \nQ 39.546875 -0.984375 27.6875 -0.984375 \nQ 15.828125 -0.984375 9.859375 8.046875 \nQ 3.90625 17.09375 3.90625 34.421875 \nQ 3.90625 52.15625 9.6875 60.984375 \nQ 15.484375 69.828125 27.984375 69.828125 \nQ 40.140625 69.828125 45.921875 60.890625 \nQ 51.703125 51.953125 51.703125 34.421875 \nz\nM 42.78125 34.421875 \nQ 42.78125 49.3125 39.328125 56 \nQ 35.890625 62.703125 27.984375 62.703125 \nQ 19.875 62.703125 16.328125 56.109375 \nQ 12.796875 49.515625 12.796875 34.421875 \nQ 12.796875 19.78125 16.375 12.984375 \nQ 19.96875 6.203125 27.78125 6.203125 \nQ 35.546875 6.203125 39.15625 13.125 \nQ 42.78125 20.0625 42.78125 34.421875 \nz\n\" id=\"LiberationSans-48\"/>\n       </defs>\n       <use xlink:href=\"#LiberationSans-48\"/>\n      </g>\n     </g>\n    </g>\n    <g id=\"xtick_2\">\n     <g id=\"text_2\">\n      <!-- 1 -->\n      <g style=\"fill:#262626;\" transform=\"translate(388.278281 320.426875)scale(0.1 -0.1)\">\n       <defs>\n        <path d=\"M 7.625 0 \nL 7.625 7.46875 \nL 25.140625 7.46875 \nL 25.140625 60.40625 \nL 9.625 49.3125 \nL 9.625 57.625 \nL 25.875 68.796875 \nL 33.984375 68.796875 \nL 33.984375 7.46875 \nL 50.734375 7.46875 \nL 50.734375 0 \nz\n\" id=\"LiberationSans-49\"/>\n       </defs>\n       <use xlink:href=\"#LiberationSans-49\"/>\n      </g>\n     </g>\n    </g>\n    <g id=\"text_3\">\n     <!-- Sentiment -->\n     <g style=\"fill:#262626;\" transform=\"translate(254.696719 334.473437)scale(0.11 -0.11)\">\n      <defs>\n       <path d=\"M 62.109375 19 \nQ 62.109375 9.46875 54.65625 4.234375 \nQ 47.21875 -0.984375 33.6875 -0.984375 \nQ 8.546875 -0.984375 4.546875 16.5 \nL 13.578125 18.3125 \nQ 15.140625 12.109375 20.21875 9.203125 \nQ 25.296875 6.296875 34.03125 6.296875 \nQ 43.0625 6.296875 47.96875 9.390625 \nQ 52.875 12.5 52.875 18.5 \nQ 52.875 21.875 51.34375 23.96875 \nQ 49.8125 26.078125 47.015625 27.4375 \nQ 44.234375 28.8125 40.375 29.734375 \nQ 36.53125 30.671875 31.84375 31.734375 \nQ 23.6875 33.546875 19.453125 35.34375 \nQ 15.234375 37.15625 12.796875 39.375 \nQ 10.359375 41.609375 9.0625 44.578125 \nQ 7.765625 47.5625 7.765625 51.421875 \nQ 7.765625 60.25 14.53125 65.03125 \nQ 21.296875 69.828125 33.890625 69.828125 \nQ 45.609375 69.828125 51.8125 66.234375 \nQ 58.015625 62.640625 60.5 54 \nL 51.3125 52.390625 \nQ 49.8125 57.859375 45.5625 60.328125 \nQ 41.3125 62.796875 33.796875 62.796875 \nQ 25.53125 62.796875 21.1875 60.0625 \nQ 16.84375 57.328125 16.84375 51.90625 \nQ 16.84375 48.734375 18.53125 46.65625 \nQ 20.21875 44.578125 23.390625 43.140625 \nQ 26.5625 41.703125 36.03125 39.59375 \nQ 39.203125 38.875 42.359375 38.109375 \nQ 45.515625 37.359375 48.390625 36.296875 \nQ 51.265625 35.25 53.78125 33.828125 \nQ 56.296875 32.421875 58.15625 30.375 \nQ 60.015625 28.328125 61.0625 25.53125 \nQ 62.109375 22.75 62.109375 19 \nz\n\" id=\"LiberationSans-83\"/>\n       <path d=\"M 13.484375 24.5625 \nQ 13.484375 15.484375 17.234375 10.546875 \nQ 21 5.609375 28.21875 5.609375 \nQ 33.9375 5.609375 37.375 7.90625 \nQ 40.828125 10.203125 42.046875 13.71875 \nL 49.75 11.53125 \nQ 45.015625 -0.984375 28.21875 -0.984375 \nQ 16.5 -0.984375 10.375 6 \nQ 4.25 12.984375 4.25 26.765625 \nQ 4.25 39.84375 10.375 46.828125 \nQ 16.5 53.8125 27.875 53.8125 \nQ 51.171875 53.8125 51.171875 25.734375 \nL 51.171875 24.5625 \nz\nM 42.09375 31.296875 \nQ 41.359375 39.65625 37.84375 43.484375 \nQ 34.328125 47.3125 27.734375 47.3125 \nQ 21.34375 47.3125 17.609375 43.03125 \nQ 13.875 38.765625 13.578125 31.296875 \nz\n\" id=\"LiberationSans-101\"/>\n       <path d=\"M 40.28125 0 \nL 40.28125 33.5 \nQ 40.28125 38.71875 39.25 41.59375 \nQ 38.234375 44.484375 35.984375 45.75 \nQ 33.734375 47.015625 29.390625 47.015625 \nQ 23.046875 47.015625 19.375 42.671875 \nQ 15.71875 38.328125 15.71875 30.609375 \nL 15.71875 0 \nL 6.9375 0 \nL 6.9375 41.546875 \nQ 6.9375 50.78125 6.640625 52.828125 \nL 14.9375 52.828125 \nQ 14.984375 52.59375 15.03125 51.515625 \nQ 15.09375 50.4375 15.15625 49.046875 \nQ 15.234375 47.65625 15.328125 43.796875 \nL 15.484375 43.796875 \nQ 18.5 49.265625 22.484375 51.53125 \nQ 26.46875 53.8125 32.375 53.8125 \nQ 41.0625 53.8125 45.09375 49.484375 \nQ 49.125 45.171875 49.125 35.203125 \nL 49.125 0 \nz\n\" id=\"LiberationSans-110\"/>\n       <path d=\"M 27.046875 0.390625 \nQ 22.703125 -0.78125 18.171875 -0.78125 \nQ 7.625 -0.78125 7.625 11.1875 \nL 7.625 46.4375 \nL 1.515625 46.4375 \nL 1.515625 52.828125 \nL 7.953125 52.828125 \nL 10.546875 64.65625 \nL 16.40625 64.65625 \nL 16.40625 52.828125 \nL 26.171875 52.828125 \nL 26.171875 46.4375 \nL 16.40625 46.4375 \nL 16.40625 13.09375 \nQ 16.40625 9.28125 17.640625 7.734375 \nQ 18.890625 6.203125 21.96875 6.203125 \nQ 23.734375 6.203125 27.046875 6.890625 \nz\n\" id=\"LiberationSans-116\"/>\n       <path d=\"M 6.6875 64.0625 \nL 6.6875 72.46875 \nL 15.484375 72.46875 \nL 15.484375 64.0625 \nz\nM 6.6875 0 \nL 6.6875 52.828125 \nL 15.484375 52.828125 \nL 15.484375 0 \nz\n\" id=\"LiberationSans-105\"/>\n       <path d=\"M 37.5 0 \nL 37.5 33.5 \nQ 37.5 41.15625 35.390625 44.078125 \nQ 33.296875 47.015625 27.828125 47.015625 \nQ 22.21875 47.015625 18.9375 42.71875 \nQ 15.671875 38.421875 15.671875 30.609375 \nL 15.671875 0 \nL 6.9375 0 \nL 6.9375 41.546875 \nQ 6.9375 50.78125 6.640625 52.828125 \nL 14.9375 52.828125 \nQ 14.984375 52.59375 15.03125 51.515625 \nQ 15.09375 50.4375 15.15625 49.046875 \nQ 15.234375 47.65625 15.328125 43.796875 \nL 15.484375 43.796875 \nQ 18.3125 49.421875 21.96875 51.609375 \nQ 25.640625 53.8125 30.90625 53.8125 \nQ 36.921875 53.8125 40.40625 51.421875 \nQ 43.890625 49.03125 45.265625 43.796875 \nL 45.40625 43.796875 \nQ 48.140625 49.125 52.015625 51.46875 \nQ 55.90625 53.8125 61.421875 53.8125 \nQ 69.4375 53.8125 73.0625 49.46875 \nQ 76.703125 45.125 76.703125 35.203125 \nL 76.703125 0 \nL 68.015625 0 \nL 68.015625 33.5 \nQ 68.015625 41.15625 65.90625 44.078125 \nQ 63.8125 47.015625 58.34375 47.015625 \nQ 52.59375 47.015625 49.390625 42.75 \nQ 46.1875 38.484375 46.1875 30.609375 \nL 46.1875 0 \nz\n\" id=\"LiberationSans-109\"/>\n      </defs>\n      <use xlink:href=\"#LiberationSans-83\"/>\n      <use x=\"66.699219\" xlink:href=\"#LiberationSans-101\"/>\n      <use x=\"122.314453\" xlink:href=\"#LiberationSans-110\"/>\n      <use x=\"177.929688\" xlink:href=\"#LiberationSans-116\"/>\n      <use x=\"205.712891\" xlink:href=\"#LiberationSans-105\"/>\n      <use x=\"227.929688\" xlink:href=\"#LiberationSans-109\"/>\n      <use x=\"311.230469\" xlink:href=\"#LiberationSans-101\"/>\n      <use x=\"366.845703\" xlink:href=\"#LiberationSans-110\"/>\n      <use x=\"422.460938\" xlink:href=\"#LiberationSans-116\"/>\n     </g>\n    </g>\n   </g>\n   <g id=\"matplotlib.axis_2\">\n    <g id=\"ytick_1\">\n     <g id=\"line2d_1\">\n      <path clip-path=\"url(#pa294e4f2c5)\" d=\"M 56.25875 306.18 \nL 502.65875 306.18 \n\" style=\"fill:none;stroke:#ffffff;stroke-linecap:round;\"/>\n     </g>\n     <g id=\"text_4\">\n      <!-- 0 -->\n      <g style=\"fill:#262626;\" transform=\"translate(43.697813 309.803438)scale(0.1 -0.1)\">\n       <use xlink:href=\"#LiberationSans-48\"/>\n      </g>\n     </g>\n    </g>\n    <g id=\"ytick_2\">\n     <g id=\"line2d_2\">\n      <path clip-path=\"url(#pa294e4f2c5)\" d=\"M 56.25875 243.076293 \nL 502.65875 243.076293 \n\" style=\"fill:none;stroke:#ffffff;stroke-linecap:round;\"/>\n     </g>\n     <g id=\"text_5\">\n      <!-- 10000 -->\n      <g style=\"fill:#262626;\" transform=\"translate(21.454063 246.69973)scale(0.1 -0.1)\">\n       <use xlink:href=\"#LiberationSans-49\"/>\n       <use x=\"55.615234\" xlink:href=\"#LiberationSans-48\"/>\n       <use x=\"111.230469\" xlink:href=\"#LiberationSans-48\"/>\n       <use x=\"166.845703\" xlink:href=\"#LiberationSans-48\"/>\n       <use x=\"222.460938\" xlink:href=\"#LiberationSans-48\"/>\n      </g>\n     </g>\n    </g>\n    <g id=\"ytick_3\">\n     <g id=\"line2d_3\">\n      <path clip-path=\"url(#pa294e4f2c5)\" d=\"M 56.25875 179.972586 \nL 502.65875 179.972586 \n\" style=\"fill:none;stroke:#ffffff;stroke-linecap:round;\"/>\n     </g>\n     <g id=\"text_6\">\n      <!-- 20000 -->\n      <g style=\"fill:#262626;\" transform=\"translate(21.454063 183.596023)scale(0.1 -0.1)\">\n       <defs>\n        <path d=\"M 5.03125 0 \nL 5.03125 6.203125 \nQ 7.515625 11.921875 11.109375 16.28125 \nQ 14.703125 20.65625 18.65625 24.1875 \nQ 22.609375 27.734375 26.484375 30.765625 \nQ 30.375 33.796875 33.5 36.8125 \nQ 36.625 39.84375 38.546875 43.15625 \nQ 40.484375 46.484375 40.484375 50.6875 \nQ 40.484375 56.34375 37.15625 59.46875 \nQ 33.84375 62.59375 27.9375 62.59375 \nQ 22.3125 62.59375 18.671875 59.546875 \nQ 15.046875 56.5 14.40625 50.984375 \nL 5.421875 51.8125 \nQ 6.390625 60.0625 12.421875 64.9375 \nQ 18.453125 69.828125 27.9375 69.828125 \nQ 38.328125 69.828125 43.921875 64.921875 \nQ 49.515625 60.015625 49.515625 50.984375 \nQ 49.515625 46.96875 47.671875 43.015625 \nQ 45.84375 39.0625 42.234375 35.109375 \nQ 38.625 31.15625 28.421875 22.859375 \nQ 22.796875 18.265625 19.46875 14.578125 \nQ 16.15625 10.890625 14.703125 7.46875 \nL 50.59375 7.46875 \nL 50.59375 0 \nz\n\" id=\"LiberationSans-50\"/>\n       </defs>\n       <use xlink:href=\"#LiberationSans-50\"/>\n       <use x=\"55.615234\" xlink:href=\"#LiberationSans-48\"/>\n       <use x=\"111.230469\" xlink:href=\"#LiberationSans-48\"/>\n       <use x=\"166.845703\" xlink:href=\"#LiberationSans-48\"/>\n       <use x=\"222.460938\" xlink:href=\"#LiberationSans-48\"/>\n      </g>\n     </g>\n    </g>\n    <g id=\"ytick_4\">\n     <g id=\"line2d_4\">\n      <path clip-path=\"url(#pa294e4f2c5)\" d=\"M 56.25875 116.868879 \nL 502.65875 116.868879 \n\" style=\"fill:none;stroke:#ffffff;stroke-linecap:round;\"/>\n     </g>\n     <g id=\"text_7\">\n      <!-- 30000 -->\n      <g style=\"fill:#262626;\" transform=\"translate(21.454063 120.492316)scale(0.1 -0.1)\">\n       <defs>\n        <path d=\"M 51.21875 19 \nQ 51.21875 9.46875 45.15625 4.234375 \nQ 39.109375 -0.984375 27.875 -0.984375 \nQ 17.4375 -0.984375 11.203125 3.734375 \nQ 4.984375 8.453125 3.8125 17.671875 \nL 12.890625 18.5 \nQ 14.65625 6.296875 27.875 6.296875 \nQ 34.515625 6.296875 38.296875 9.5625 \nQ 42.09375 12.84375 42.09375 19.28125 \nQ 42.09375 24.90625 37.765625 28.046875 \nQ 33.453125 31.203125 25.296875 31.203125 \nL 20.3125 31.203125 \nL 20.3125 38.8125 \nL 25.09375 38.8125 \nQ 32.328125 38.8125 36.296875 41.96875 \nQ 40.28125 45.125 40.28125 50.6875 \nQ 40.28125 56.203125 37.03125 59.390625 \nQ 33.796875 62.59375 27.390625 62.59375 \nQ 21.578125 62.59375 17.984375 59.609375 \nQ 14.40625 56.640625 13.8125 51.21875 \nL 4.984375 51.90625 \nQ 5.953125 60.359375 11.984375 65.09375 \nQ 18.015625 69.828125 27.484375 69.828125 \nQ 37.84375 69.828125 43.578125 65.015625 \nQ 49.3125 60.203125 49.3125 51.609375 \nQ 49.3125 45.015625 45.625 40.890625 \nQ 41.9375 36.765625 34.90625 35.296875 \nL 34.90625 35.109375 \nQ 42.625 34.28125 46.921875 29.9375 \nQ 51.21875 25.59375 51.21875 19 \nz\n\" id=\"LiberationSans-51\"/>\n       </defs>\n       <use xlink:href=\"#LiberationSans-51\"/>\n       <use x=\"55.615234\" xlink:href=\"#LiberationSans-48\"/>\n       <use x=\"111.230469\" xlink:href=\"#LiberationSans-48\"/>\n       <use x=\"166.845703\" xlink:href=\"#LiberationSans-48\"/>\n       <use x=\"222.460938\" xlink:href=\"#LiberationSans-48\"/>\n      </g>\n     </g>\n    </g>\n    <g id=\"ytick_5\">\n     <g id=\"line2d_5\">\n      <path clip-path=\"url(#pa294e4f2c5)\" d=\"M 56.25875 53.765172 \nL 502.65875 53.765172 \n\" style=\"fill:none;stroke:#ffffff;stroke-linecap:round;\"/>\n     </g>\n     <g id=\"text_8\">\n      <!-- 40000 -->\n      <g style=\"fill:#262626;\" transform=\"translate(21.454063 57.388609)scale(0.1 -0.1)\">\n       <defs>\n        <path d=\"M 43.015625 15.578125 \nL 43.015625 0 \nL 34.71875 0 \nL 34.71875 15.578125 \nL 2.296875 15.578125 \nL 2.296875 22.40625 \nL 33.796875 68.796875 \nL 43.015625 68.796875 \nL 43.015625 22.515625 \nL 52.6875 22.515625 \nL 52.6875 15.578125 \nz\nM 34.71875 58.890625 \nQ 34.625 58.59375 33.34375 56.296875 \nQ 32.078125 54 31.453125 53.078125 \nL 13.8125 27.09375 \nL 11.1875 23.484375 \nL 10.40625 22.515625 \nL 34.71875 22.515625 \nz\n\" id=\"LiberationSans-52\"/>\n       </defs>\n       <use xlink:href=\"#LiberationSans-52\"/>\n       <use x=\"55.615234\" xlink:href=\"#LiberationSans-48\"/>\n       <use x=\"111.230469\" xlink:href=\"#LiberationSans-48\"/>\n       <use x=\"166.845703\" xlink:href=\"#LiberationSans-48\"/>\n       <use x=\"222.460938\" xlink:href=\"#LiberationSans-48\"/>\n      </g>\n     </g>\n    </g>\n    <g id=\"text_9\">\n     <!-- count -->\n     <g style=\"fill:#262626;\" transform=\"translate(15.171563 170.143516)rotate(-90)scale(0.11 -0.11)\">\n      <defs>\n       <path d=\"M 13.421875 26.65625 \nQ 13.421875 16.109375 16.734375 11.03125 \nQ 20.0625 5.953125 26.765625 5.953125 \nQ 31.453125 5.953125 34.59375 8.484375 \nQ 37.75 11.03125 38.484375 16.3125 \nL 47.359375 15.71875 \nQ 46.34375 8.109375 40.875 3.5625 \nQ 35.40625 -0.984375 27 -0.984375 \nQ 15.921875 -0.984375 10.078125 6.015625 \nQ 4.25 13.03125 4.25 26.46875 \nQ 4.25 39.796875 10.109375 46.796875 \nQ 15.96875 53.8125 26.90625 53.8125 \nQ 35.015625 53.8125 40.359375 49.609375 \nQ 45.703125 45.40625 47.078125 38.03125 \nL 38.03125 37.359375 \nQ 37.359375 41.75 34.5625 44.328125 \nQ 31.78125 46.921875 26.65625 46.921875 \nQ 19.671875 46.921875 16.546875 42.28125 \nQ 13.421875 37.640625 13.421875 26.65625 \nz\n\" id=\"LiberationSans-99\"/>\n       <path d=\"M 51.421875 26.46875 \nQ 51.421875 12.59375 45.3125 5.796875 \nQ 39.203125 -0.984375 27.59375 -0.984375 \nQ 16.015625 -0.984375 10.109375 6.078125 \nQ 4.203125 13.140625 4.203125 26.46875 \nQ 4.203125 53.8125 27.875 53.8125 \nQ 39.984375 53.8125 45.703125 47.140625 \nQ 51.421875 40.484375 51.421875 26.46875 \nz\nM 42.1875 26.46875 \nQ 42.1875 37.40625 38.9375 42.359375 \nQ 35.6875 47.3125 28.03125 47.3125 \nQ 20.3125 47.3125 16.859375 42.25 \nQ 13.421875 37.203125 13.421875 26.46875 \nQ 13.421875 16.015625 16.8125 10.765625 \nQ 20.21875 5.515625 27.484375 5.515625 \nQ 35.40625 5.515625 38.796875 10.59375 \nQ 42.1875 15.671875 42.1875 26.46875 \nz\n\" id=\"LiberationSans-111\"/>\n       <path d=\"M 15.328125 52.828125 \nL 15.328125 19.34375 \nQ 15.328125 14.109375 16.359375 11.21875 \nQ 17.390625 8.34375 19.625 7.078125 \nQ 21.875 5.8125 26.21875 5.8125 \nQ 32.5625 5.8125 36.21875 10.15625 \nQ 39.890625 14.5 39.890625 22.21875 \nL 39.890625 52.828125 \nL 48.6875 52.828125 \nL 48.6875 11.28125 \nQ 48.6875 2.046875 48.96875 0 \nL 40.671875 0 \nQ 40.625 0.25 40.578125 1.3125 \nQ 40.53125 2.390625 40.453125 3.78125 \nQ 40.375 5.171875 40.28125 9.03125 \nL 40.140625 9.03125 \nQ 37.109375 3.5625 33.125 1.28125 \nQ 29.15625 -0.984375 23.25 -0.984375 \nQ 14.546875 -0.984375 10.515625 3.34375 \nQ 6.5 7.671875 6.5 17.625 \nL 6.5 52.828125 \nz\n\" id=\"LiberationSans-117\"/>\n      </defs>\n      <use xlink:href=\"#LiberationSans-99\"/>\n      <use x=\"50\" xlink:href=\"#LiberationSans-111\"/>\n      <use x=\"105.615234\" xlink:href=\"#LiberationSans-117\"/>\n      <use x=\"161.230469\" xlink:href=\"#LiberationSans-110\"/>\n      <use x=\"216.845703\" xlink:href=\"#LiberationSans-116\"/>\n     </g>\n    </g>\n   </g>\n   <g id=\"patch_3\">\n    <path clip-path=\"url(#pa294e4f2c5)\" d=\"M 78.57875 306.18 \nL 257.13875 306.18 \nL 257.13875 86.105822 \nL 78.57875 86.105822 \nz\n\" style=\"fill:#5875a4;stroke:#ffffff;stroke-linejoin:miter;stroke-width:0.3;\"/>\n   </g>\n   <g id=\"patch_4\">\n    <path clip-path=\"url(#pa294e4f2c5)\" d=\"M 301.77875 306.18 \nL 480.33875 306.18 \nL 480.33875 21.437143 \nL 301.77875 21.437143 \nz\n\" style=\"fill:#5f9e6e;stroke:#ffffff;stroke-linejoin:miter;stroke-width:0.3;\"/>\n   </g>\n   <g id=\"patch_5\">\n    <path d=\"M 56.25875 306.18 \nL 56.25875 7.2 \n\" style=\"fill:none;\"/>\n   </g>\n   <g id=\"patch_6\">\n    <path d=\"M 502.65875 306.18 \nL 502.65875 7.2 \n\" style=\"fill:none;\"/>\n   </g>\n   <g id=\"patch_7\">\n    <path d=\"M 56.25875 306.18 \nL 502.65875 306.18 \n\" style=\"fill:none;\"/>\n   </g>\n   <g id=\"patch_8\">\n    <path d=\"M 56.25875 7.2 \nL 502.65875 7.2 \n\" style=\"fill:none;\"/>\n   </g>\n  </g>\n </g>\n <defs>\n  <clipPath id=\"pa294e4f2c5\">\n   <rect height=\"298.98\" width=\"446.4\" x=\"56.25875\" y=\"7.2\"/>\n  </clipPath>\n </defs>\n</svg>\n",
      "image/png": "[encoded data removed]"
     },
     "metadata": {}
    }
   ],
   "source": [
    "sns.countplot(x='Sentiment', data=df)"
   ]
  },
  {
   "source": [
    "### Preprocessing"
   ],
   "cell_type": "markdown",
   "metadata": {}
  },
  {
   "cell_type": "code",
   "execution_count": 48,
   "metadata": {},
   "outputs": [],
   "source": [
    "#importing different libraries for analysis, processing and classification\n",
    "import nltk\n",
    "import re #regular expression for text processing\n",
    "from nltk.corpus import stopwords\n",
    "from nltk.stem import WordNetLemmatizer #word stemmer class\n",
    "lemma = WordNetLemmatizer()\n",
    "from wordcloud import WordCloud, STOPWORDS\n",
    "from nltk import FreqDist \n",
    "# vectorizer \n",
    "from sklearn.feature_extraction.text import CountVectorizer\n",
    "from sklearn.feature_extraction.text import TfidfVectorizer\n",
    "from sklearn.model_selection import train_test_split\n",
    "from sklearn.linear_model import LogisticRegression #classification model\n",
    "from sklearn.metrics import confusion_matrix, classification_report, f1_score # performance evaluation criteria"
   ]
  },
  {
   "source": [
    "**Preprocessing the tweet column**"
   ],
   "cell_type": "markdown",
   "metadata": {}
  },
  {
   "source": [
    "### Removing short words  \n",
    "We have to be a little careful here in selecting the length of the words which we want to remove. So, I have decided to remove all the words having length 3 or less. For example, terms like “hmm”, “oh” are of very little use. It is better to get rid of them."
   ],
   "cell_type": "markdown",
   "metadata": {}
  },
  {
   "cell_type": "code",
   "execution_count": 97,
   "metadata": {},
   "outputs": [
    {
     "output_type": "execute_result",
     "data": {
      "text/plain": [
       "0        @coffeebased thanks tweeting Looking forward r...\n",
       "1        @cakes4rockstarz delicious frosting didn't cho...\n",
       "2        @bretharrison Reaper's favorite connected scho...\n",
       "3        @AGraham1206 work.... trying projects before c...\n",
       "4                                        #Zazzle galleries\n",
       "                               ...                        \n",
       "79993                    @andydick awwwwwwwwwwwwwww missed\n",
       "79994                                 @alderina definitely\n",
       "79995                                             everyone\n",
       "79996                   @Captain_Chrismo thought recommend\n",
       "79997                          @beckywecks congrats girly!\n",
       "Name: SentimentText, Length: 79998, dtype: object"
      ]
     },
     "metadata": {},
     "execution_count": 97
    }
   ],
   "source": [
    "df['SentimentText'] = df['SentimentText'].apply(lambda x: \" \".join([w for w in x.split() if len(w)>3]))\n"
   ]
  },
  {
   "cell_type": "code",
   "execution_count": 49,
   "metadata": {},
   "outputs": [],
   "source": [
    "def normalizer(tweet):\n",
    "    tweets = ' '.join(filter(lambda x: x[0] != '@', tweet.split()))\n",
    "    tweets = re.sub('[^a-zA-Z]', ' ', tweets) \n",
    "    tweets = tweets.lower()\n",
    "    tweets = tweets.split()\n",
    "    tweets = [word for word in tweets if not word in set(stopwords.words('english'))]\n",
    "    tweets = [lemma.lemmatize(word) for word in tweets]\n",
    "    tweets = ' '.join(tweets)\n",
    "    return tweets"
   ]
  },
  {
   "cell_type": "code",
   "execution_count": 50,
   "metadata": {},
   "outputs": [],
   "source": [
    "%time df['normalized_tweet'] = df.SentimentText.apply(normalizer)"
   ]
  },
  {
   "cell_type": "code",
   "execution_count": 53,
   "metadata": {},
   "outputs": [],
   "source": [
    "def extract_hashtag(tweet):\n",
    "    tweets = ' '.join(filter(lambda x: x[0]=='#', tweet.split()))\n",
    "    tweets = re.sub('[^a-zA-Z]',' ',  tweets)\n",
    "    tweets = tweets.lower()\n",
    "    tweets = [lemma.lemmatize(word) for word in tweets]\n",
    "    tweets = ''.join(tweets)\n",
    "    return tweets"
   ]
  },
  {
   "cell_type": "code",
   "execution_count": 54,
   "metadata": {},
   "outputs": [
    {
     "output_type": "stream",
     "name": "stdout",
     "text": [
      "CPU times: user 1.19 s, sys: 8.1 ms, total: 1.2 s\nWall time: 1.2 s\n"
     ]
    }
   ],
   "source": [
    "df['hashtag'] = df.SentimentText.apply(extract_hashtag)"
   ]
  },
  {
   "source": [
    "## 3. Story Generation and Visualization from Tweets"
   ],
   "cell_type": "markdown",
   "metadata": {}
  },
  {
   "source": [
    "### A) Understanding the common words used in the tweets: WordCloud  \n",
    "A wordcloud is a visualization wherein the most frequent words appear in large size and the less frequent words appear in smaller sizes."
   ],
   "cell_type": "markdown",
   "metadata": {}
  },
  {
   "cell_type": "code",
   "execution_count": 57,
   "metadata": {},
   "outputs": [
    {
     "output_type": "execute_result",
     "data": {
      "text/plain": [
       "   Sentiment                                      SentimentText  \\\n",
       "0          1  @coffeebased thanks so much  hehe. Will be twe...   \n",
       "1          0  @cakes4rockstarz at least  it'd be a delicious...   \n",
       "2          1  @bretharrison Reaper's my favorite show! Kept ...   \n",
       "3          0  @AGraham1206 Lotsa work....   I'm trying to ge...   \n",
       "4          1  @ 4:30 I will Tweet the #Zazzle galleries for ...   \n",
       "\n",
       "                                    normalized_tweet  hashtag  \n",
       "0  thanks much hehe tweeting lot looking forward ...           \n",
       "1  least delicious cake cake icky white frosting ...           \n",
       "2  reaper favorite show kept connected u school a...           \n",
       "3  lotsa work trying get project done thurs confe...           \n",
       "4                           tweet zazzle gallery day   zazzle  "
      ],
      "text/html": "<div>\n<style scoped>\n    .dataframe tbody tr th:only-of-type {\n        vertical-align: middle;\n    }\n\n    .dataframe tbody tr th {\n        vertical-align: top;\n    }\n\n    .dataframe thead th {\n        text-align: right;\n    }\n</style>\n<table border=\"1\" class=\"dataframe\">\n  <thead>\n    <tr style=\"text-align: right;\">\n      <th></th>\n      <th>Sentiment</th>\n      <th>SentimentText</th>\n      <th>normalized_tweet</th>\n      <th>hashtag</th>\n    </tr>\n  </thead>\n  <tbody>\n    <tr>\n      <th>0</th>\n      <td>1</td>\n      <td>@coffeebased thanks so much  hehe. Will be twe...</td>\n      <td>thanks much hehe tweeting lot looking forward ...</td>\n      <td></td>\n    </tr>\n    <tr>\n      <th>1</th>\n      <td>0</td>\n      <td>@cakes4rockstarz at least  it'd be a delicious...</td>\n      <td>least delicious cake cake icky white frosting ...</td>\n      <td></td>\n    </tr>\n    <tr>\n      <th>2</th>\n      <td>1</td>\n      <td>@bretharrison Reaper's my favorite show! Kept ...</td>\n      <td>reaper favorite show kept connected u school a...</td>\n      <td></td>\n    </tr>\n    <tr>\n      <th>3</th>\n      <td>0</td>\n      <td>@AGraham1206 Lotsa work....   I'm trying to ge...</td>\n      <td>lotsa work trying get project done thurs confe...</td>\n      <td></td>\n    </tr>\n    <tr>\n      <th>4</th>\n      <td>1</td>\n      <td>@ 4:30 I will Tweet the #Zazzle galleries for ...</td>\n      <td>tweet zazzle gallery day</td>\n      <td>zazzle</td>\n    </tr>\n  </tbody>\n</table>\n</div>"
     },
     "metadata": {},
     "execution_count": 57
    }
   ],
   "source": [
    "df.head()"
   ]
  },
  {
   "source": [
    "### D) Understanding the impact of Hashtags on tweets sentiment"
   ],
   "cell_type": "markdown",
   "metadata": {}
  },
  {
   "cell_type": "code",
   "execution_count": 75,
   "metadata": {},
   "outputs": [],
   "source": [
    "freq_all_hashtag = FreqDist(list((\" \".join(df.hashtag)).split())).most_common(10)\n",
    "df_allhashtag = pd.DataFrame(freq_all_hashtag, columns=['words', 'frequency'])"
   ]
  },
  {
   "cell_type": "code",
   "execution_count": 74,
   "metadata": {},
   "outputs": [
    {
     "output_type": "display_data",
     "data": {
      "text/plain": "<Figure size 576x396 with 1 Axes>",
      "image/svg+xml": "<?xml version=\"1.0\" encoding=\"utf-8\" standalone=\"no\"?>\n<!DOCTYPE svg PUBLIC \"-//W3C//DTD SVG 1.1//EN\"\n  \"http://www.w3.org/Graphics/SVG/1.1/DTD/svg11.dtd\">\n<!-- Created with matplotlib (https://matplotlib.org/) -->\n<svg height=\"417.726699pt\" version=\"1.1\" viewBox=\"0 0 498.736875 417.726699\" width=\"498.736875pt\" xmlns=\"http://www.w3.org/2000/svg\" xmlns:xlink=\"http://www.w3.org/1999/xlink\">\n <metadata>\n  <rdf:RDF xmlns:cc=\"http://creativecommons.org/ns#\" xmlns:dc=\"http://purl.org/dc/elements/1.1/\" xmlns:rdf=\"http://www.w3.org/1999/02/22-rdf-syntax-ns#\">\n   <cc:Work>\n    <dc:type rdf:resource=\"http://purl.org/dc/dcmitype/StillImage\"/>\n    <dc:date>2020-12-16T14:46:16.313708</dc:date>\n    <dc:format>image/svg+xml</dc:format>\n    <dc:creator>\n     <cc:Agent>\n      <dc:title>Matplotlib v3.3.3, https://matplotlib.org/</dc:title>\n     </cc:Agent>\n    </dc:creator>\n   </cc:Work>\n  </rdf:RDF>\n </metadata>\n <defs>\n  <style type=\"text/css\">*{stroke-linecap:butt;stroke-linejoin:round;}</style>\n </defs>\n <g id=\"figure_1\">\n  <g id=\"patch_1\">\n   <path d=\"M 0 417.726699 \nL 498.736875 417.726699 \nL 498.736875 0 \nL 0 0 \nz\n\" style=\"fill:#ffffff;\"/>\n  </g>\n  <g id=\"axes_1\">\n   <g id=\"patch_2\">\n    <path d=\"M 45.136875 320.87625 \nL 491.536875 320.87625 \nL 491.536875 21.89625 \nL 45.136875 21.89625 \nz\n\" style=\"fill:#eaeaf2;\"/>\n   </g>\n   <g id=\"matplotlib.axis_1\">\n    <g id=\"xtick_1\">\n     <g id=\"text_1\">\n      <!-- followfriday -->\n      <g style=\"fill:#262626;\" transform=\"translate(65.66083 378.391971)rotate(-80)scale(0.1 -0.1)\">\n       <defs>\n        <path d=\"M 17.625 46.4375 \nL 17.625 0 \nL 8.84375 0 \nL 8.84375 46.4375 \nL 1.421875 46.4375 \nL 1.421875 52.828125 \nL 8.84375 52.828125 \nL 8.84375 58.796875 \nQ 8.84375 66.015625 12.015625 69.1875 \nQ 15.1875 72.359375 21.734375 72.359375 \nQ 25.390625 72.359375 27.9375 71.78125 \nL 27.9375 65.09375 \nQ 25.734375 65.484375 24.03125 65.484375 \nQ 20.65625 65.484375 19.140625 63.765625 \nQ 17.625 62.0625 17.625 57.5625 \nL 17.625 52.828125 \nL 27.9375 52.828125 \nL 27.9375 46.4375 \nz\n\" id=\"LiberationSans-102\"/>\n        <path d=\"M 51.421875 26.46875 \nQ 51.421875 12.59375 45.3125 5.796875 \nQ 39.203125 -0.984375 27.59375 -0.984375 \nQ 16.015625 -0.984375 10.109375 6.078125 \nQ 4.203125 13.140625 4.203125 26.46875 \nQ 4.203125 53.8125 27.875 53.8125 \nQ 39.984375 53.8125 45.703125 47.140625 \nQ 51.421875 40.484375 51.421875 26.46875 \nz\nM 42.1875 26.46875 \nQ 42.1875 37.40625 38.9375 42.359375 \nQ 35.6875 47.3125 28.03125 47.3125 \nQ 20.3125 47.3125 16.859375 42.25 \nQ 13.421875 37.203125 13.421875 26.46875 \nQ 13.421875 16.015625 16.8125 10.765625 \nQ 20.21875 5.515625 27.484375 5.515625 \nQ 35.40625 5.515625 38.796875 10.59375 \nQ 42.1875 15.671875 42.1875 26.46875 \nz\n\" id=\"LiberationSans-111\"/>\n        <path d=\"M 6.734375 0 \nL 6.734375 72.46875 \nL 15.53125 72.46875 \nL 15.53125 0 \nz\n\" id=\"LiberationSans-108\"/>\n        <path d=\"M 57.328125 0 \nL 47.125 0 \nL 37.890625 37.359375 \nL 36.140625 45.609375 \nQ 35.6875 43.40625 34.765625 39.28125 \nQ 33.84375 35.15625 24.8125 0 \nL 14.65625 0 \nL -0.140625 52.828125 \nL 8.546875 52.828125 \nL 17.484375 16.9375 \nQ 17.828125 15.765625 19.578125 7.28125 \nL 20.40625 10.890625 \nL 31.453125 52.828125 \nL 40.875 52.828125 \nL 50.09375 16.546875 \nL 52.34375 7.28125 \nL 53.859375 14.0625 \nL 63.875 52.828125 \nL 72.46875 52.828125 \nz\n\" id=\"LiberationSans-119\"/>\n        <path d=\"M 6.9375 0 \nL 6.9375 40.53125 \nQ 6.9375 46.09375 6.640625 52.828125 \nL 14.9375 52.828125 \nQ 15.328125 43.84375 15.328125 42.046875 \nL 15.53125 42.046875 \nQ 17.625 48.828125 20.359375 51.3125 \nQ 23.09375 53.8125 28.078125 53.8125 \nQ 29.828125 53.8125 31.640625 53.328125 \nL 31.640625 45.265625 \nQ 29.890625 45.75 26.953125 45.75 \nQ 21.484375 45.75 18.59375 41.03125 \nQ 15.71875 36.328125 15.71875 27.546875 \nL 15.71875 0 \nz\n\" id=\"LiberationSans-114\"/>\n        <path d=\"M 6.6875 64.0625 \nL 6.6875 72.46875 \nL 15.484375 72.46875 \nL 15.484375 64.0625 \nz\nM 6.6875 0 \nL 6.6875 52.828125 \nL 15.484375 52.828125 \nL 15.484375 0 \nz\n\" id=\"LiberationSans-105\"/>\n        <path d=\"M 40.09375 8.5 \nQ 37.640625 3.421875 33.609375 1.21875 \nQ 29.59375 -0.984375 23.640625 -0.984375 \nQ 13.625 -0.984375 8.90625 5.75 \nQ 4.203125 12.5 4.203125 26.171875 \nQ 4.203125 53.8125 23.640625 53.8125 \nQ 29.640625 53.8125 33.640625 51.609375 \nQ 37.640625 49.421875 40.09375 44.625 \nL 40.1875 44.625 \nL 40.09375 50.53125 \nL 40.09375 72.46875 \nL 48.875 72.46875 \nL 48.875 10.890625 \nQ 48.875 2.640625 49.171875 0 \nL 40.765625 0 \nQ 40.625 0.78125 40.453125 3.609375 \nQ 40.28125 6.453125 40.28125 8.5 \nz\nM 13.421875 26.46875 \nQ 13.421875 15.375 16.34375 10.59375 \nQ 19.28125 5.8125 25.875 5.8125 \nQ 33.34375 5.8125 36.71875 10.984375 \nQ 40.09375 16.15625 40.09375 27.046875 \nQ 40.09375 37.546875 36.71875 42.421875 \nQ 33.34375 47.3125 25.984375 47.3125 \nQ 19.34375 47.3125 16.375 42.40625 \nQ 13.421875 37.5 13.421875 26.46875 \nz\n\" id=\"LiberationSans-100\"/>\n        <path d=\"M 20.21875 -0.984375 \nQ 12.25 -0.984375 8.25 3.21875 \nQ 4.25 7.421875 4.25 14.75 \nQ 4.25 22.953125 9.640625 27.34375 \nQ 15.046875 31.734375 27.046875 32.03125 \nL 38.921875 32.234375 \nL 38.921875 35.109375 \nQ 38.921875 41.546875 36.1875 44.328125 \nQ 33.453125 47.125 27.59375 47.125 \nQ 21.6875 47.125 19 45.109375 \nQ 16.3125 43.109375 15.765625 38.71875 \nL 6.59375 39.546875 \nQ 8.84375 53.8125 27.78125 53.8125 \nQ 37.75 53.8125 42.765625 49.234375 \nQ 47.796875 44.671875 47.796875 36.03125 \nL 47.796875 13.28125 \nQ 47.796875 9.375 48.828125 7.390625 \nQ 49.859375 5.421875 52.734375 5.421875 \nQ 54 5.421875 55.609375 5.765625 \nL 55.609375 0.296875 \nQ 52.296875 -0.484375 48.828125 -0.484375 \nQ 43.953125 -0.484375 41.71875 2.078125 \nQ 39.5 4.640625 39.203125 10.109375 \nL 38.921875 10.109375 \nQ 35.546875 4.046875 31.078125 1.53125 \nQ 26.609375 -0.984375 20.21875 -0.984375 \nz\nM 22.21875 5.609375 \nQ 27.046875 5.609375 30.8125 7.8125 \nQ 34.578125 10.015625 36.75 13.84375 \nQ 38.921875 17.671875 38.921875 21.734375 \nL 38.921875 26.078125 \nL 29.296875 25.875 \nQ 23.09375 25.78125 19.890625 24.609375 \nQ 16.703125 23.4375 14.984375 21 \nQ 13.28125 18.5625 13.28125 14.59375 \nQ 13.28125 10.296875 15.59375 7.953125 \nQ 17.921875 5.609375 22.21875 5.609375 \nz\n\" id=\"LiberationSans-97\"/>\n        <path d=\"M 9.328125 -20.75 \nQ 5.71875 -20.75 3.265625 -20.21875 \nL 3.265625 -13.625 \nQ 5.125 -13.921875 7.375 -13.921875 \nQ 15.578125 -13.921875 20.359375 -1.859375 \nL 21.1875 0.25 \nL 0.25 52.828125 \nL 9.625 52.828125 \nL 20.75 23.640625 \nQ 21 22.953125 21.34375 22 \nQ 21.6875 21.046875 23.53125 15.625 \nQ 25.390625 10.203125 25.53125 9.578125 \nL 28.953125 19.1875 \nL 40.53125 52.828125 \nL 49.8125 52.828125 \nL 29.5 0 \nQ 26.21875 -8.453125 23.390625 -12.578125 \nQ 20.5625 -16.703125 17.109375 -18.71875 \nQ 13.671875 -20.75 9.328125 -20.75 \nz\n\" id=\"LiberationSans-121\"/>\n       </defs>\n       <use xlink:href=\"#LiberationSans-102\"/>\n       <use x=\"27.783203\" xlink:href=\"#LiberationSans-111\"/>\n       <use x=\"83.398438\" xlink:href=\"#LiberationSans-108\"/>\n       <use x=\"105.615234\" xlink:href=\"#LiberationSans-108\"/>\n       <use x=\"127.832031\" xlink:href=\"#LiberationSans-111\"/>\n       <use x=\"183.447266\" xlink:href=\"#LiberationSans-119\"/>\n       <use x=\"255.664062\" xlink:href=\"#LiberationSans-102\"/>\n       <use x=\"283.447266\" xlink:href=\"#LiberationSans-114\"/>\n       <use x=\"316.748047\" xlink:href=\"#LiberationSans-105\"/>\n       <use x=\"338.964844\" xlink:href=\"#LiberationSans-100\"/>\n       <use x=\"394.580078\" xlink:href=\"#LiberationSans-97\"/>\n       <use x=\"450.195312\" xlink:href=\"#LiberationSans-121\"/>\n      </g>\n     </g>\n    </g>\n    <g id=\"xtick_2\">\n     <g id=\"text_2\">\n      <!-- musicmonday -->\n      <g style=\"fill:#262626;\" transform=\"translate(109.287701 389.883446)rotate(-80)scale(0.1 -0.1)\">\n       <defs>\n        <path d=\"M 37.5 0 \nL 37.5 33.5 \nQ 37.5 41.15625 35.390625 44.078125 \nQ 33.296875 47.015625 27.828125 47.015625 \nQ 22.21875 47.015625 18.9375 42.71875 \nQ 15.671875 38.421875 15.671875 30.609375 \nL 15.671875 0 \nL 6.9375 0 \nL 6.9375 41.546875 \nQ 6.9375 50.78125 6.640625 52.828125 \nL 14.9375 52.828125 \nQ 14.984375 52.59375 15.03125 51.515625 \nQ 15.09375 50.4375 15.15625 49.046875 \nQ 15.234375 47.65625 15.328125 43.796875 \nL 15.484375 43.796875 \nQ 18.3125 49.421875 21.96875 51.609375 \nQ 25.640625 53.8125 30.90625 53.8125 \nQ 36.921875 53.8125 40.40625 51.421875 \nQ 43.890625 49.03125 45.265625 43.796875 \nL 45.40625 43.796875 \nQ 48.140625 49.125 52.015625 51.46875 \nQ 55.90625 53.8125 61.421875 53.8125 \nQ 69.4375 53.8125 73.0625 49.46875 \nQ 76.703125 45.125 76.703125 35.203125 \nL 76.703125 0 \nL 68.015625 0 \nL 68.015625 33.5 \nQ 68.015625 41.15625 65.90625 44.078125 \nQ 63.8125 47.015625 58.34375 47.015625 \nQ 52.59375 47.015625 49.390625 42.75 \nQ 46.1875 38.484375 46.1875 30.609375 \nL 46.1875 0 \nz\n\" id=\"LiberationSans-109\"/>\n        <path d=\"M 15.328125 52.828125 \nL 15.328125 19.34375 \nQ 15.328125 14.109375 16.359375 11.21875 \nQ 17.390625 8.34375 19.625 7.078125 \nQ 21.875 5.8125 26.21875 5.8125 \nQ 32.5625 5.8125 36.21875 10.15625 \nQ 39.890625 14.5 39.890625 22.21875 \nL 39.890625 52.828125 \nL 48.6875 52.828125 \nL 48.6875 11.28125 \nQ 48.6875 2.046875 48.96875 0 \nL 40.671875 0 \nQ 40.625 0.25 40.578125 1.3125 \nQ 40.53125 2.390625 40.453125 3.78125 \nQ 40.375 5.171875 40.28125 9.03125 \nL 40.140625 9.03125 \nQ 37.109375 3.5625 33.125 1.28125 \nQ 29.15625 -0.984375 23.25 -0.984375 \nQ 14.546875 -0.984375 10.515625 3.34375 \nQ 6.5 7.671875 6.5 17.625 \nL 6.5 52.828125 \nz\n\" id=\"LiberationSans-117\"/>\n        <path d=\"M 46.390625 14.59375 \nQ 46.390625 7.125 40.75 3.0625 \nQ 35.109375 -0.984375 24.953125 -0.984375 \nQ 15.09375 -0.984375 9.734375 2.265625 \nQ 4.390625 5.515625 2.78125 12.40625 \nL 10.546875 13.921875 \nQ 11.671875 9.671875 15.1875 7.6875 \nQ 18.703125 5.71875 24.953125 5.71875 \nQ 31.640625 5.71875 34.734375 7.765625 \nQ 37.84375 9.8125 37.84375 13.921875 \nQ 37.84375 17.046875 35.6875 19 \nQ 33.546875 20.953125 28.765625 22.21875 \nL 22.46875 23.875 \nQ 14.890625 25.828125 11.6875 27.703125 \nQ 8.5 29.59375 6.6875 32.28125 \nQ 4.890625 34.96875 4.890625 38.875 \nQ 4.890625 46.09375 10.03125 49.875 \nQ 15.1875 53.65625 25.046875 53.65625 \nQ 33.796875 53.65625 38.9375 50.578125 \nQ 44.09375 47.515625 45.453125 40.71875 \nL 37.546875 39.75 \nQ 36.8125 43.265625 33.609375 45.140625 \nQ 30.421875 47.015625 25.046875 47.015625 \nQ 19.09375 47.015625 16.25 45.203125 \nQ 13.421875 43.40625 13.421875 39.75 \nQ 13.421875 37.5 14.59375 36.03125 \nQ 15.765625 34.578125 18.0625 33.546875 \nQ 20.359375 32.515625 27.734375 30.71875 \nQ 34.71875 28.953125 37.796875 27.46875 \nQ 40.875 25.984375 42.65625 24.171875 \nQ 44.4375 22.359375 45.40625 19.984375 \nQ 46.390625 17.625 46.390625 14.59375 \nz\n\" id=\"LiberationSans-115\"/>\n        <path d=\"M 13.421875 26.65625 \nQ 13.421875 16.109375 16.734375 11.03125 \nQ 20.0625 5.953125 26.765625 5.953125 \nQ 31.453125 5.953125 34.59375 8.484375 \nQ 37.75 11.03125 38.484375 16.3125 \nL 47.359375 15.71875 \nQ 46.34375 8.109375 40.875 3.5625 \nQ 35.40625 -0.984375 27 -0.984375 \nQ 15.921875 -0.984375 10.078125 6.015625 \nQ 4.25 13.03125 4.25 26.46875 \nQ 4.25 39.796875 10.109375 46.796875 \nQ 15.96875 53.8125 26.90625 53.8125 \nQ 35.015625 53.8125 40.359375 49.609375 \nQ 45.703125 45.40625 47.078125 38.03125 \nL 38.03125 37.359375 \nQ 37.359375 41.75 34.5625 44.328125 \nQ 31.78125 46.921875 26.65625 46.921875 \nQ 19.671875 46.921875 16.546875 42.28125 \nQ 13.421875 37.640625 13.421875 26.65625 \nz\n\" id=\"LiberationSans-99\"/>\n        <path d=\"M 40.28125 0 \nL 40.28125 33.5 \nQ 40.28125 38.71875 39.25 41.59375 \nQ 38.234375 44.484375 35.984375 45.75 \nQ 33.734375 47.015625 29.390625 47.015625 \nQ 23.046875 47.015625 19.375 42.671875 \nQ 15.71875 38.328125 15.71875 30.609375 \nL 15.71875 0 \nL 6.9375 0 \nL 6.9375 41.546875 \nQ 6.9375 50.78125 6.640625 52.828125 \nL 14.9375 52.828125 \nQ 14.984375 52.59375 15.03125 51.515625 \nQ 15.09375 50.4375 15.15625 49.046875 \nQ 15.234375 47.65625 15.328125 43.796875 \nL 15.484375 43.796875 \nQ 18.5 49.265625 22.484375 51.53125 \nQ 26.46875 53.8125 32.375 53.8125 \nQ 41.0625 53.8125 45.09375 49.484375 \nQ 49.125 45.171875 49.125 35.203125 \nL 49.125 0 \nz\n\" id=\"LiberationSans-110\"/>\n       </defs>\n       <use xlink:href=\"#LiberationSans-109\"/>\n       <use x=\"83.300781\" xlink:href=\"#LiberationSans-117\"/>\n       <use x=\"138.916016\" xlink:href=\"#LiberationSans-115\"/>\n       <use x=\"188.916016\" xlink:href=\"#LiberationSans-105\"/>\n       <use x=\"211.132812\" xlink:href=\"#LiberationSans-99\"/>\n       <use x=\"261.132812\" xlink:href=\"#LiberationSans-109\"/>\n       <use x=\"344.433594\" xlink:href=\"#LiberationSans-111\"/>\n       <use x=\"400.048828\" xlink:href=\"#LiberationSans-110\"/>\n       <use x=\"455.664062\" xlink:href=\"#LiberationSans-100\"/>\n       <use x=\"511.279297\" xlink:href=\"#LiberationSans-97\"/>\n       <use x=\"566.894531\" xlink:href=\"#LiberationSans-121\"/>\n      </g>\n     </g>\n    </g>\n    <g id=\"xtick_3\">\n     <g id=\"text_3\">\n      <!-- iremember -->\n      <g style=\"fill:#262626;\" transform=\"translate(155.134691 376.19308)rotate(-80)scale(0.1 -0.1)\">\n       <defs>\n        <path d=\"M 13.484375 24.5625 \nQ 13.484375 15.484375 17.234375 10.546875 \nQ 21 5.609375 28.21875 5.609375 \nQ 33.9375 5.609375 37.375 7.90625 \nQ 40.828125 10.203125 42.046875 13.71875 \nL 49.75 11.53125 \nQ 45.015625 -0.984375 28.21875 -0.984375 \nQ 16.5 -0.984375 10.375 6 \nQ 4.25 12.984375 4.25 26.765625 \nQ 4.25 39.84375 10.375 46.828125 \nQ 16.5 53.8125 27.875 53.8125 \nQ 51.171875 53.8125 51.171875 25.734375 \nL 51.171875 24.5625 \nz\nM 42.09375 31.296875 \nQ 41.359375 39.65625 37.84375 43.484375 \nQ 34.328125 47.3125 27.734375 47.3125 \nQ 21.34375 47.3125 17.609375 43.03125 \nQ 13.875 38.765625 13.578125 31.296875 \nz\n\" id=\"LiberationSans-101\"/>\n        <path d=\"M 51.421875 26.65625 \nQ 51.421875 -0.984375 31.984375 -0.984375 \nQ 25.984375 -0.984375 22 1.1875 \nQ 18.015625 3.375 15.53125 8.203125 \nL 15.4375 8.203125 \nQ 15.4375 6.6875 15.234375 3.578125 \nQ 15.046875 0.484375 14.9375 0 \nL 6.453125 0 \nQ 6.734375 2.640625 6.734375 10.890625 \nL 6.734375 72.46875 \nL 15.53125 72.46875 \nL 15.53125 51.8125 \nQ 15.53125 48.640625 15.328125 44.34375 \nL 15.53125 44.34375 \nQ 17.96875 49.421875 22 51.609375 \nQ 26.03125 53.8125 31.984375 53.8125 \nQ 42 53.8125 46.703125 47.0625 \nQ 51.421875 40.328125 51.421875 26.65625 \nz\nM 42.1875 26.375 \nQ 42.1875 37.453125 39.25 42.234375 \nQ 36.328125 47.015625 29.734375 47.015625 \nQ 22.3125 47.015625 18.921875 41.9375 \nQ 15.53125 36.859375 15.53125 25.828125 \nQ 15.53125 15.4375 18.84375 10.46875 \nQ 22.171875 5.515625 29.640625 5.515625 \nQ 36.28125 5.515625 39.234375 10.421875 \nQ 42.1875 15.328125 42.1875 26.375 \nz\n\" id=\"LiberationSans-98\"/>\n       </defs>\n       <use xlink:href=\"#LiberationSans-105\"/>\n       <use x=\"22.216797\" xlink:href=\"#LiberationSans-114\"/>\n       <use x=\"55.517578\" xlink:href=\"#LiberationSans-101\"/>\n       <use x=\"111.132812\" xlink:href=\"#LiberationSans-109\"/>\n       <use x=\"194.433594\" xlink:href=\"#LiberationSans-101\"/>\n       <use x=\"250.048828\" xlink:href=\"#LiberationSans-109\"/>\n       <use x=\"333.349609\" xlink:href=\"#LiberationSans-98\"/>\n       <use x=\"388.964844\" xlink:href=\"#LiberationSans-101\"/>\n       <use x=\"444.580078\" xlink:href=\"#LiberationSans-114\"/>\n      </g>\n     </g>\n    </g>\n    <g id=\"xtick_4\">\n     <g id=\"text_4\">\n      <!-- ff -->\n      <g style=\"fill:#262626;\" transform=\"translate(203.456304 334.434153)rotate(-80)scale(0.1 -0.1)\">\n       <use xlink:href=\"#LiberationSans-102\"/>\n       <use x=\"26.033203\" xlink:href=\"#LiberationSans-102\"/>\n      </g>\n     </g>\n    </g>\n    <g id=\"xtick_5\">\n     <g id=\"text_5\">\n      <!-- myweakness -->\n      <g style=\"fill:#262626;\" transform=\"translate(243.545501 386.051928)rotate(-80)scale(0.1 -0.1)\">\n       <defs>\n        <path d=\"M 39.84375 0 \nL 21.96875 24.125 \nL 15.53125 18.796875 \nL 15.53125 0 \nL 6.734375 0 \nL 6.734375 72.46875 \nL 15.53125 72.46875 \nL 15.53125 27.203125 \nL 38.71875 52.828125 \nL 49.03125 52.828125 \nL 27.59375 30.125 \nL 50.140625 0 \nz\n\" id=\"LiberationSans-107\"/>\n       </defs>\n       <use xlink:href=\"#LiberationSans-109\"/>\n       <use x=\"83.300781\" xlink:href=\"#LiberationSans-121\"/>\n       <use x=\"133.300781\" xlink:href=\"#LiberationSans-119\"/>\n       <use x=\"205.517578\" xlink:href=\"#LiberationSans-101\"/>\n       <use x=\"261.132812\" xlink:href=\"#LiberationSans-97\"/>\n       <use x=\"316.748047\" xlink:href=\"#LiberationSans-107\"/>\n       <use x=\"366.748047\" xlink:href=\"#LiberationSans-110\"/>\n       <use x=\"422.363281\" xlink:href=\"#LiberationSans-101\"/>\n       <use x=\"477.978516\" xlink:href=\"#LiberationSans-115\"/>\n       <use x=\"527.978516\" xlink:href=\"#LiberationSans-115\"/>\n      </g>\n     </g>\n    </g>\n    <g id=\"xtick_6\">\n     <g id=\"text_6\">\n      <!-- squarespace -->\n      <g style=\"fill:#262626;\" transform=\"translate(288.232305 385.521056)rotate(-80)scale(0.1 -0.1)\">\n       <defs>\n        <path d=\"M 23.640625 -0.984375 \nQ 13.578125 -0.984375 8.890625 5.796875 \nQ 4.203125 12.59375 4.203125 26.171875 \nQ 4.203125 53.8125 23.640625 53.8125 \nQ 29.640625 53.8125 33.546875 51.6875 \nQ 37.453125 49.5625 40.09375 44.625 \nL 40.1875 44.625 \nQ 40.1875 46.09375 40.375 49.671875 \nQ 40.578125 53.265625 40.765625 53.515625 \nL 49.21875 53.515625 \nQ 48.875 50.640625 48.875 39.109375 \nL 48.875 -20.75 \nL 40.09375 -20.75 \nL 40.09375 0.6875 \nL 40.28125 8.6875 \nL 40.1875 8.6875 \nQ 37.546875 3.46875 33.6875 1.234375 \nQ 29.828125 -0.984375 23.640625 -0.984375 \nz\nM 40.09375 27.046875 \nQ 40.09375 37.359375 36.71875 42.328125 \nQ 33.34375 47.3125 25.984375 47.3125 \nQ 19.28125 47.3125 16.34375 42.328125 \nQ 13.421875 37.359375 13.421875 26.46875 \nQ 13.421875 15.375 16.375 10.59375 \nQ 19.34375 5.8125 25.875 5.8125 \nQ 33.34375 5.8125 36.71875 11.125 \nQ 40.09375 16.453125 40.09375 27.046875 \nz\n\" id=\"LiberationSans-113\"/>\n        <path d=\"M 51.421875 26.65625 \nQ 51.421875 -0.984375 31.984375 -0.984375 \nQ 19.78125 -0.984375 15.578125 8.203125 \nL 15.328125 8.203125 \nQ 15.53125 7.8125 15.53125 -0.09375 \nL 15.53125 -20.75 \nL 6.734375 -20.75 \nL 6.734375 42.046875 \nQ 6.734375 50.203125 6.453125 52.828125 \nL 14.9375 52.828125 \nQ 14.984375 52.640625 15.078125 51.4375 \nQ 15.1875 50.25 15.3125 47.75 \nQ 15.4375 45.265625 15.4375 44.34375 \nL 15.625 44.34375 \nQ 17.96875 49.21875 21.828125 51.484375 \nQ 25.6875 53.765625 31.984375 53.765625 \nQ 41.75 53.765625 46.578125 47.21875 \nQ 51.421875 40.671875 51.421875 26.65625 \nz\nM 42.1875 26.46875 \nQ 42.1875 37.5 39.203125 42.234375 \nQ 36.234375 46.96875 29.734375 46.96875 \nQ 24.515625 46.96875 21.5625 44.765625 \nQ 18.609375 42.578125 17.0625 37.90625 \nQ 15.53125 33.25 15.53125 25.78125 \nQ 15.53125 15.375 18.84375 10.4375 \nQ 22.171875 5.515625 29.640625 5.515625 \nQ 36.1875 5.515625 39.1875 10.328125 \nQ 42.1875 15.140625 42.1875 26.46875 \nz\n\" id=\"LiberationSans-112\"/>\n       </defs>\n       <use xlink:href=\"#LiberationSans-115\"/>\n       <use x=\"50\" xlink:href=\"#LiberationSans-113\"/>\n       <use x=\"105.615234\" xlink:href=\"#LiberationSans-117\"/>\n       <use x=\"161.230469\" xlink:href=\"#LiberationSans-97\"/>\n       <use x=\"216.845703\" xlink:href=\"#LiberationSans-114\"/>\n       <use x=\"250.146484\" xlink:href=\"#LiberationSans-101\"/>\n       <use x=\"305.761719\" xlink:href=\"#LiberationSans-115\"/>\n       <use x=\"355.761719\" xlink:href=\"#LiberationSans-112\"/>\n       <use x=\"411.376953\" xlink:href=\"#LiberationSans-97\"/>\n       <use x=\"466.992188\" xlink:href=\"#LiberationSans-99\"/>\n       <use x=\"516.992188\" xlink:href=\"#LiberationSans-101\"/>\n      </g>\n     </g>\n    </g>\n    <g id=\"xtick_7\">\n     <g id=\"text_7\">\n      <!-- inaperfectworld -->\n      <g style=\"fill:#262626;\" transform=\"translate(331.956175 395.912316)rotate(-80)scale(0.1 -0.1)\">\n       <defs>\n        <path d=\"M 27.046875 0.390625 \nQ 22.703125 -0.78125 18.171875 -0.78125 \nQ 7.625 -0.78125 7.625 11.1875 \nL 7.625 46.4375 \nL 1.515625 46.4375 \nL 1.515625 52.828125 \nL 7.953125 52.828125 \nL 10.546875 64.65625 \nL 16.40625 64.65625 \nL 16.40625 52.828125 \nL 26.171875 52.828125 \nL 26.171875 46.4375 \nL 16.40625 46.4375 \nL 16.40625 13.09375 \nQ 16.40625 9.28125 17.640625 7.734375 \nQ 18.890625 6.203125 21.96875 6.203125 \nQ 23.734375 6.203125 27.046875 6.890625 \nz\n\" id=\"LiberationSans-116\"/>\n       </defs>\n       <use xlink:href=\"#LiberationSans-105\"/>\n       <use x=\"22.216797\" xlink:href=\"#LiberationSans-110\"/>\n       <use x=\"77.832031\" xlink:href=\"#LiberationSans-97\"/>\n       <use x=\"133.447266\" xlink:href=\"#LiberationSans-112\"/>\n       <use x=\"189.0625\" xlink:href=\"#LiberationSans-101\"/>\n       <use x=\"244.677734\" xlink:href=\"#LiberationSans-114\"/>\n       <use x=\"277.978516\" xlink:href=\"#LiberationSans-102\"/>\n       <use x=\"305.761719\" xlink:href=\"#LiberationSans-101\"/>\n       <use x=\"361.376953\" xlink:href=\"#LiberationSans-99\"/>\n       <use x=\"411.376953\" xlink:href=\"#LiberationSans-116\"/>\n       <use x=\"439.160156\" xlink:href=\"#LiberationSans-119\"/>\n       <use x=\"511.376953\" xlink:href=\"#LiberationSans-111\"/>\n       <use x=\"566.992188\" xlink:href=\"#LiberationSans-114\"/>\n       <use x=\"600.292969\" xlink:href=\"#LiberationSans-108\"/>\n       <use x=\"622.509766\" xlink:href=\"#LiberationSans-100\"/>\n      </g>\n     </g>\n    </g>\n    <g id=\"xtick_8\">\n     <g id=\"text_8\">\n      <!-- haveyouever -->\n      <g style=\"fill:#262626;\" transform=\"translate(377.512305 385.521056)rotate(-80)scale(0.1 -0.1)\">\n       <defs>\n        <path d=\"M 15.484375 43.796875 \nQ 18.3125 48.96875 22.28125 51.390625 \nQ 26.265625 53.8125 32.375 53.8125 \nQ 40.96875 53.8125 45.046875 49.53125 \nQ 49.125 45.265625 49.125 35.203125 \nL 49.125 0 \nL 40.28125 0 \nL 40.28125 33.5 \nQ 40.28125 39.0625 39.25 41.765625 \nQ 38.234375 44.484375 35.890625 45.75 \nQ 33.546875 47.015625 29.390625 47.015625 \nQ 23.1875 47.015625 19.453125 42.71875 \nQ 15.71875 38.421875 15.71875 31.15625 \nL 15.71875 0 \nL 6.9375 0 \nL 6.9375 72.46875 \nL 15.71875 72.46875 \nL 15.71875 53.609375 \nQ 15.71875 50.640625 15.546875 47.453125 \nQ 15.375 44.28125 15.328125 43.796875 \nz\n\" id=\"LiberationSans-104\"/>\n        <path d=\"M 29.9375 0 \nL 19.53125 0 \nL 0.34375 52.828125 \nL 9.71875 52.828125 \nL 21.34375 18.453125 \nQ 21.96875 16.5 24.703125 6.890625 \nL 26.421875 12.59375 \nL 28.328125 18.359375 \nL 40.328125 52.828125 \nL 49.65625 52.828125 \nz\n\" id=\"LiberationSans-118\"/>\n       </defs>\n       <use xlink:href=\"#LiberationSans-104\"/>\n       <use x=\"55.615234\" xlink:href=\"#LiberationSans-97\"/>\n       <use x=\"111.230469\" xlink:href=\"#LiberationSans-118\"/>\n       <use x=\"161.230469\" xlink:href=\"#LiberationSans-101\"/>\n       <use x=\"216.845703\" xlink:href=\"#LiberationSans-121\"/>\n       <use x=\"266.845703\" xlink:href=\"#LiberationSans-111\"/>\n       <use x=\"322.460938\" xlink:href=\"#LiberationSans-117\"/>\n       <use x=\"378.076172\" xlink:href=\"#LiberationSans-101\"/>\n       <use x=\"433.691406\" xlink:href=\"#LiberationSans-118\"/>\n       <use x=\"483.691406\" xlink:href=\"#LiberationSans-101\"/>\n       <use x=\"539.306641\" xlink:href=\"#LiberationSans-114\"/>\n      </g>\n     </g>\n    </g>\n    <g id=\"xtick_9\">\n     <g id=\"text_9\">\n      <!-- bsb -->\n      <g style=\"fill:#262626;\" transform=\"translate(425.723759 345.011604)rotate(-80)scale(0.1 -0.1)\">\n       <use xlink:href=\"#LiberationSans-98\"/>\n       <use x=\"55.615234\" xlink:href=\"#LiberationSans-115\"/>\n       <use x=\"105.615234\" xlink:href=\"#LiberationSans-98\"/>\n      </g>\n     </g>\n    </g>\n    <g id=\"xtick_10\">\n     <g id=\"text_10\">\n      <!-- iranelection -->\n      <g style=\"fill:#262626;\" transform=\"translate(467.323424 379.496802)rotate(-80)scale(0.1 -0.1)\">\n       <use xlink:href=\"#LiberationSans-105\"/>\n       <use x=\"22.216797\" xlink:href=\"#LiberationSans-114\"/>\n       <use x=\"55.517578\" xlink:href=\"#LiberationSans-97\"/>\n       <use x=\"111.132812\" xlink:href=\"#LiberationSans-110\"/>\n       <use x=\"166.748047\" xlink:href=\"#LiberationSans-101\"/>\n       <use x=\"222.363281\" xlink:href=\"#LiberationSans-108\"/>\n       <use x=\"244.580078\" xlink:href=\"#LiberationSans-101\"/>\n       <use x=\"300.195312\" xlink:href=\"#LiberationSans-99\"/>\n       <use x=\"350.195312\" xlink:href=\"#LiberationSans-116\"/>\n       <use x=\"377.978516\" xlink:href=\"#LiberationSans-105\"/>\n       <use x=\"400.195312\" xlink:href=\"#LiberationSans-111\"/>\n       <use x=\"455.810547\" xlink:href=\"#LiberationSans-110\"/>\n      </g>\n     </g>\n    </g>\n    <g id=\"text_11\">\n     <!-- words -->\n     <g style=\"fill:#262626;\" transform=\"translate(253.666484 408.244199)scale(0.11 -0.11)\">\n      <use xlink:href=\"#LiberationSans-119\"/>\n      <use x=\"72.216797\" xlink:href=\"#LiberationSans-111\"/>\n      <use x=\"127.832031\" xlink:href=\"#LiberationSans-114\"/>\n      <use x=\"161.132812\" xlink:href=\"#LiberationSans-100\"/>\n      <use x=\"216.748047\" xlink:href=\"#LiberationSans-115\"/>\n     </g>\n    </g>\n   </g>\n   <g id=\"matplotlib.axis_2\">\n    <g id=\"ytick_1\">\n     <g id=\"line2d_1\">\n      <path clip-path=\"url(#p5aaaf4e72f)\" d=\"M 45.136875 320.87625 \nL 491.536875 320.87625 \n\" style=\"fill:none;stroke:#ffffff;stroke-linecap:round;\"/>\n     </g>\n     <g id=\"text_12\">\n      <!-- 0 -->\n      <g style=\"fill:#262626;\" transform=\"translate(32.575938 324.499687)scale(0.1 -0.1)\">\n       <defs>\n        <path d=\"M 51.703125 34.421875 \nQ 51.703125 17.1875 45.625 8.09375 \nQ 39.546875 -0.984375 27.6875 -0.984375 \nQ 15.828125 -0.984375 9.859375 8.046875 \nQ 3.90625 17.09375 3.90625 34.421875 \nQ 3.90625 52.15625 9.6875 60.984375 \nQ 15.484375 69.828125 27.984375 69.828125 \nQ 40.140625 69.828125 45.921875 60.890625 \nQ 51.703125 51.953125 51.703125 34.421875 \nz\nM 42.78125 34.421875 \nQ 42.78125 49.3125 39.328125 56 \nQ 35.890625 62.703125 27.984375 62.703125 \nQ 19.875 62.703125 16.328125 56.109375 \nQ 12.796875 49.515625 12.796875 34.421875 \nQ 12.796875 19.78125 16.375 12.984375 \nQ 19.96875 6.203125 27.78125 6.203125 \nQ 35.546875 6.203125 39.15625 13.125 \nQ 42.78125 20.0625 42.78125 34.421875 \nz\n\" id=\"LiberationSans-48\"/>\n       </defs>\n       <use xlink:href=\"#LiberationSans-48\"/>\n      </g>\n     </g>\n    </g>\n    <g id=\"ytick_2\">\n     <g id=\"line2d_2\">\n      <path clip-path=\"url(#p5aaaf4e72f)\" d=\"M 45.136875 260.421291 \nL 491.536875 260.421291 \n\" style=\"fill:none;stroke:#ffffff;stroke-linecap:round;\"/>\n     </g>\n     <g id=\"text_13\">\n      <!-- 100 -->\n      <g style=\"fill:#262626;\" transform=\"translate(21.454063 264.044728)scale(0.1 -0.1)\">\n       <defs>\n        <path d=\"M 7.625 0 \nL 7.625 7.46875 \nL 25.140625 7.46875 \nL 25.140625 60.40625 \nL 9.625 49.3125 \nL 9.625 57.625 \nL 25.875 68.796875 \nL 33.984375 68.796875 \nL 33.984375 7.46875 \nL 50.734375 7.46875 \nL 50.734375 0 \nz\n\" id=\"LiberationSans-49\"/>\n       </defs>\n       <use xlink:href=\"#LiberationSans-49\"/>\n       <use x=\"55.615234\" xlink:href=\"#LiberationSans-48\"/>\n       <use x=\"111.230469\" xlink:href=\"#LiberationSans-48\"/>\n      </g>\n     </g>\n    </g>\n    <g id=\"ytick_3\">\n     <g id=\"line2d_3\">\n      <path clip-path=\"url(#p5aaaf4e72f)\" d=\"M 45.136875 199.966332 \nL 491.536875 199.966332 \n\" style=\"fill:none;stroke:#ffffff;stroke-linecap:round;\"/>\n     </g>\n     <g id=\"text_14\">\n      <!-- 200 -->\n      <g style=\"fill:#262626;\" transform=\"translate(21.454063 203.589769)scale(0.1 -0.1)\">\n       <defs>\n        <path d=\"M 5.03125 0 \nL 5.03125 6.203125 \nQ 7.515625 11.921875 11.109375 16.28125 \nQ 14.703125 20.65625 18.65625 24.1875 \nQ 22.609375 27.734375 26.484375 30.765625 \nQ 30.375 33.796875 33.5 36.8125 \nQ 36.625 39.84375 38.546875 43.15625 \nQ 40.484375 46.484375 40.484375 50.6875 \nQ 40.484375 56.34375 37.15625 59.46875 \nQ 33.84375 62.59375 27.9375 62.59375 \nQ 22.3125 62.59375 18.671875 59.546875 \nQ 15.046875 56.5 14.40625 50.984375 \nL 5.421875 51.8125 \nQ 6.390625 60.0625 12.421875 64.9375 \nQ 18.453125 69.828125 27.9375 69.828125 \nQ 38.328125 69.828125 43.921875 64.921875 \nQ 49.515625 60.015625 49.515625 50.984375 \nQ 49.515625 46.96875 47.671875 43.015625 \nQ 45.84375 39.0625 42.234375 35.109375 \nQ 38.625 31.15625 28.421875 22.859375 \nQ 22.796875 18.265625 19.46875 14.578125 \nQ 16.15625 10.890625 14.703125 7.46875 \nL 50.59375 7.46875 \nL 50.59375 0 \nz\n\" id=\"LiberationSans-50\"/>\n       </defs>\n       <use xlink:href=\"#LiberationSans-50\"/>\n       <use x=\"55.615234\" xlink:href=\"#LiberationSans-48\"/>\n       <use x=\"111.230469\" xlink:href=\"#LiberationSans-48\"/>\n      </g>\n     </g>\n    </g>\n    <g id=\"ytick_4\">\n     <g id=\"line2d_4\">\n      <path clip-path=\"url(#p5aaaf4e72f)\" d=\"M 45.136875 139.511373 \nL 491.536875 139.511373 \n\" style=\"fill:none;stroke:#ffffff;stroke-linecap:round;\"/>\n     </g>\n     <g id=\"text_15\">\n      <!-- 300 -->\n      <g style=\"fill:#262626;\" transform=\"translate(21.454063 143.13481)scale(0.1 -0.1)\">\n       <defs>\n        <path d=\"M 51.21875 19 \nQ 51.21875 9.46875 45.15625 4.234375 \nQ 39.109375 -0.984375 27.875 -0.984375 \nQ 17.4375 -0.984375 11.203125 3.734375 \nQ 4.984375 8.453125 3.8125 17.671875 \nL 12.890625 18.5 \nQ 14.65625 6.296875 27.875 6.296875 \nQ 34.515625 6.296875 38.296875 9.5625 \nQ 42.09375 12.84375 42.09375 19.28125 \nQ 42.09375 24.90625 37.765625 28.046875 \nQ 33.453125 31.203125 25.296875 31.203125 \nL 20.3125 31.203125 \nL 20.3125 38.8125 \nL 25.09375 38.8125 \nQ 32.328125 38.8125 36.296875 41.96875 \nQ 40.28125 45.125 40.28125 50.6875 \nQ 40.28125 56.203125 37.03125 59.390625 \nQ 33.796875 62.59375 27.390625 62.59375 \nQ 21.578125 62.59375 17.984375 59.609375 \nQ 14.40625 56.640625 13.8125 51.21875 \nL 4.984375 51.90625 \nQ 5.953125 60.359375 11.984375 65.09375 \nQ 18.015625 69.828125 27.484375 69.828125 \nQ 37.84375 69.828125 43.578125 65.015625 \nQ 49.3125 60.203125 49.3125 51.609375 \nQ 49.3125 45.015625 45.625 40.890625 \nQ 41.9375 36.765625 34.90625 35.296875 \nL 34.90625 35.109375 \nQ 42.625 34.28125 46.921875 29.9375 \nQ 51.21875 25.59375 51.21875 19 \nz\n\" id=\"LiberationSans-51\"/>\n       </defs>\n       <use xlink:href=\"#LiberationSans-51\"/>\n       <use x=\"55.615234\" xlink:href=\"#LiberationSans-48\"/>\n       <use x=\"111.230469\" xlink:href=\"#LiberationSans-48\"/>\n      </g>\n     </g>\n    </g>\n    <g id=\"ytick_5\">\n     <g id=\"line2d_5\">\n      <path clip-path=\"url(#p5aaaf4e72f)\" d=\"M 45.136875 79.056414 \nL 491.536875 79.056414 \n\" style=\"fill:none;stroke:#ffffff;stroke-linecap:round;\"/>\n     </g>\n     <g id=\"text_16\">\n      <!-- 400 -->\n      <g style=\"fill:#262626;\" transform=\"translate(21.454063 82.679851)scale(0.1 -0.1)\">\n       <defs>\n        <path d=\"M 43.015625 15.578125 \nL 43.015625 0 \nL 34.71875 0 \nL 34.71875 15.578125 \nL 2.296875 15.578125 \nL 2.296875 22.40625 \nL 33.796875 68.796875 \nL 43.015625 68.796875 \nL 43.015625 22.515625 \nL 52.6875 22.515625 \nL 52.6875 15.578125 \nz\nM 34.71875 58.890625 \nQ 34.625 58.59375 33.34375 56.296875 \nQ 32.078125 54 31.453125 53.078125 \nL 13.8125 27.09375 \nL 11.1875 23.484375 \nL 10.40625 22.515625 \nL 34.71875 22.515625 \nz\n\" id=\"LiberationSans-52\"/>\n       </defs>\n       <use xlink:href=\"#LiberationSans-52\"/>\n       <use x=\"55.615234\" xlink:href=\"#LiberationSans-48\"/>\n       <use x=\"111.230469\" xlink:href=\"#LiberationSans-48\"/>\n      </g>\n     </g>\n    </g>\n    <g id=\"text_17\">\n     <!-- frequency -->\n     <g style=\"fill:#262626;\" transform=\"translate(15.171563 195.538125)rotate(-90)scale(0.11 -0.11)\">\n      <use xlink:href=\"#LiberationSans-102\"/>\n      <use x=\"27.783203\" xlink:href=\"#LiberationSans-114\"/>\n      <use x=\"61.083984\" xlink:href=\"#LiberationSans-101\"/>\n      <use x=\"116.699219\" xlink:href=\"#LiberationSans-113\"/>\n      <use x=\"172.314453\" xlink:href=\"#LiberationSans-117\"/>\n      <use x=\"227.929688\" xlink:href=\"#LiberationSans-101\"/>\n      <use x=\"283.544922\" xlink:href=\"#LiberationSans-110\"/>\n      <use x=\"339.160156\" xlink:href=\"#LiberationSans-99\"/>\n      <use x=\"389.160156\" xlink:href=\"#LiberationSans-121\"/>\n     </g>\n    </g>\n   </g>\n   <g id=\"patch_3\">\n    <path clip-path=\"url(#p5aaaf4e72f)\" d=\"M 49.600875 320.87625 \nL 85.312875 320.87625 \nL 85.312875 36.133393 \nL 49.600875 36.133393 \nz\n\" style=\"fill:#ea96a3;stroke:#ffffff;stroke-linejoin:miter;stroke-width:0.3;\"/>\n   </g>\n   <g id=\"patch_4\">\n    <path clip-path=\"url(#p5aaaf4e72f)\" d=\"M 94.240875 320.87625 \nL 129.952875 320.87625 \nL 129.952875 228.984712 \nL 94.240875 228.984712 \nz\n\" style=\"fill:#d7944e;stroke:#ffffff;stroke-linejoin:miter;stroke-width:0.3;\"/>\n   </g>\n   <g id=\"patch_5\">\n    <path clip-path=\"url(#p5aaaf4e72f)\" d=\"M 138.880875 320.87625 \nL 174.592875 320.87625 \nL 174.592875 229.589262 \nL 138.880875 229.589262 \nz\n\" style=\"fill:#ab9e47;stroke:#ffffff;stroke-linejoin:miter;stroke-width:0.3;\"/>\n   </g>\n   <g id=\"patch_6\">\n    <path clip-path=\"url(#p5aaaf4e72f)\" d=\"M 183.520875 320.87625 \nL 219.232875 320.87625 \nL 219.232875 232.61201 \nL 183.520875 232.61201 \nz\n\" style=\"fill:#7fa946;stroke:#ffffff;stroke-linejoin:miter;stroke-width:0.3;\"/>\n   </g>\n   <g id=\"patch_7\">\n    <path clip-path=\"url(#p5aaaf4e72f)\" d=\"M 228.160875 320.87625 \nL 263.872875 320.87625 \nL 263.872875 233.216559 \nL 228.160875 233.216559 \nz\n\" style=\"fill:#49ae83;stroke:#ffffff;stroke-linejoin:miter;stroke-width:0.3;\"/>\n   </g>\n   <g id=\"patch_8\">\n    <path clip-path=\"url(#p5aaaf4e72f)\" d=\"M 272.800875 320.87625 \nL 308.512875 320.87625 \nL 308.512875 255.584894 \nL 272.800875 255.584894 \nz\n\" style=\"fill:#4baba4;stroke:#ffffff;stroke-linejoin:miter;stroke-width:0.3;\"/>\n   </g>\n   <g id=\"patch_9\">\n    <path clip-path=\"url(#p5aaaf4e72f)\" d=\"M 317.440875 320.87625 \nL 353.152875 320.87625 \nL 353.152875 259.212192 \nL 317.440875 259.212192 \nz\n\" style=\"fill:#50acc3;stroke:#ffffff;stroke-linejoin:miter;stroke-width:0.3;\"/>\n   </g>\n   <g id=\"patch_10\">\n    <path clip-path=\"url(#p5aaaf4e72f)\" d=\"M 362.080875 320.87625 \nL 397.792875 320.87625 \nL 397.792875 264.048588 \nL 362.080875 264.048588 \nz\n\" style=\"fill:#94aee8;stroke:#ffffff;stroke-linejoin:miter;stroke-width:0.3;\"/>\n   </g>\n   <g id=\"patch_11\">\n    <path clip-path=\"url(#p5aaaf4e72f)\" d=\"M 406.720875 320.87625 \nL 442.432875 320.87625 \nL 442.432875 270.698634 \nL 406.720875 270.698634 \nz\n\" style=\"fill:#ce9be9;stroke:#ffffff;stroke-linejoin:miter;stroke-width:0.3;\"/>\n   </g>\n   <g id=\"patch_12\">\n    <path clip-path=\"url(#p5aaaf4e72f)\" d=\"M 451.360875 320.87625 \nL 487.072875 320.87625 \nL 487.072875 284.603275 \nL 451.360875 284.603275 \nz\n\" style=\"fill:#e88fcc;stroke:#ffffff;stroke-linejoin:miter;stroke-width:0.3;\"/>\n   </g>\n   <g id=\"line2d_6\">\n    <path clip-path=\"url(#p5aaaf4e72f)\" d=\"M 0 0 \n\" style=\"fill:none;stroke:#424242;stroke-linecap:round;stroke-width:3.15;\"/>\n   </g>\n   <g id=\"line2d_7\">\n    <path clip-path=\"url(#p5aaaf4e72f)\" d=\"M 0 0 \n\" style=\"fill:none;stroke:#424242;stroke-linecap:round;stroke-width:3.15;\"/>\n   </g>\n   <g id=\"line2d_8\">\n    <path clip-path=\"url(#p5aaaf4e72f)\" d=\"M 0 0 \n\" style=\"fill:none;stroke:#424242;stroke-linecap:round;stroke-width:3.15;\"/>\n   </g>\n   <g id=\"line2d_9\">\n    <path clip-path=\"url(#p5aaaf4e72f)\" d=\"M 0 0 \n\" style=\"fill:none;stroke:#424242;stroke-linecap:round;stroke-width:3.15;\"/>\n   </g>\n   <g id=\"line2d_10\">\n    <path clip-path=\"url(#p5aaaf4e72f)\" d=\"M 0 0 \n\" style=\"fill:none;stroke:#424242;stroke-linecap:round;stroke-width:3.15;\"/>\n   </g>\n   <g id=\"line2d_11\">\n    <path clip-path=\"url(#p5aaaf4e72f)\" d=\"M 0 0 \n\" style=\"fill:none;stroke:#424242;stroke-linecap:round;stroke-width:3.15;\"/>\n   </g>\n   <g id=\"line2d_12\">\n    <path clip-path=\"url(#p5aaaf4e72f)\" d=\"M 0 0 \n\" style=\"fill:none;stroke:#424242;stroke-linecap:round;stroke-width:3.15;\"/>\n   </g>\n   <g id=\"line2d_13\">\n    <path clip-path=\"url(#p5aaaf4e72f)\" d=\"M 0 0 \n\" style=\"fill:none;stroke:#424242;stroke-linecap:round;stroke-width:3.15;\"/>\n   </g>\n   <g id=\"line2d_14\">\n    <path clip-path=\"url(#p5aaaf4e72f)\" d=\"M 0 0 \n\" style=\"fill:none;stroke:#424242;stroke-linecap:round;stroke-width:3.15;\"/>\n   </g>\n   <g id=\"line2d_15\">\n    <path clip-path=\"url(#p5aaaf4e72f)\" d=\"M 0 0 \n\" style=\"fill:none;stroke:#424242;stroke-linecap:round;stroke-width:3.15;\"/>\n   </g>\n   <g id=\"patch_13\">\n    <path d=\"M 45.136875 320.87625 \nL 45.136875 21.89625 \n\" style=\"fill:none;\"/>\n   </g>\n   <g id=\"patch_14\">\n    <path d=\"M 491.536875 320.87625 \nL 491.536875 21.89625 \n\" style=\"fill:none;\"/>\n   </g>\n   <g id=\"patch_15\">\n    <path d=\"M 45.136875 320.87625 \nL 491.536875 320.87625 \n\" style=\"fill:none;\"/>\n   </g>\n   <g id=\"patch_16\">\n    <path d=\"M 45.136875 21.89625 \nL 491.536875 21.89625 \n\" style=\"fill:none;\"/>\n   </g>\n   <g id=\"text_18\">\n    <!-- hashtag words frequency -->\n    <g style=\"fill:#262626;\" transform=\"translate(201.301875 15.89625)scale(0.12 -0.12)\">\n     <defs>\n      <path d=\"M 26.765625 -20.75 \nQ 18.109375 -20.75 12.984375 -17.359375 \nQ 7.859375 -13.96875 6.390625 -7.71875 \nL 15.234375 -6.453125 \nQ 16.109375 -10.109375 19.109375 -12.078125 \nQ 22.125 -14.0625 27 -14.0625 \nQ 40.140625 -14.0625 40.140625 1.3125 \nL 40.140625 9.8125 \nL 40.046875 9.8125 \nQ 37.546875 4.734375 33.203125 2.171875 \nQ 28.859375 -0.390625 23.046875 -0.390625 \nQ 13.328125 -0.390625 8.765625 6.046875 \nQ 4.203125 12.5 4.203125 26.3125 \nQ 4.203125 40.328125 9.109375 46.984375 \nQ 14.015625 53.65625 24.03125 53.65625 \nQ 29.640625 53.65625 33.765625 51.09375 \nQ 37.890625 48.53125 40.140625 43.796875 \nL 40.234375 43.796875 \nQ 40.234375 45.265625 40.421875 48.875 \nQ 40.625 52.484375 40.828125 52.828125 \nL 49.171875 52.828125 \nQ 48.875 50.203125 48.875 41.890625 \nL 48.875 1.515625 \nQ 48.875 -20.75 26.765625 -20.75 \nz\nM 40.140625 26.421875 \nQ 40.140625 32.859375 38.375 37.515625 \nQ 36.625 42.1875 33.421875 44.65625 \nQ 30.21875 47.125 26.171875 47.125 \nQ 19.4375 47.125 16.359375 42.234375 \nQ 13.28125 37.359375 13.28125 26.421875 \nQ 13.28125 15.578125 16.15625 10.84375 \nQ 19.046875 6.109375 26.03125 6.109375 \nQ 30.171875 6.109375 33.390625 8.546875 \nQ 36.625 10.984375 38.375 15.546875 \nQ 40.140625 20.125 40.140625 26.421875 \nz\n\" id=\"LiberationSans-103\"/>\n      <path id=\"LiberationSans-32\"/>\n     </defs>\n     <use xlink:href=\"#LiberationSans-104\"/>\n     <use x=\"55.615234\" xlink:href=\"#LiberationSans-97\"/>\n     <use x=\"111.230469\" xlink:href=\"#LiberationSans-115\"/>\n     <use x=\"161.230469\" xlink:href=\"#LiberationSans-104\"/>\n     <use x=\"216.845703\" xlink:href=\"#LiberationSans-116\"/>\n     <use x=\"244.628906\" xlink:href=\"#LiberationSans-97\"/>\n     <use x=\"300.244141\" xlink:href=\"#LiberationSans-103\"/>\n     <use x=\"355.859375\" xlink:href=\"#LiberationSans-32\"/>\n     <use x=\"383.642578\" xlink:href=\"#LiberationSans-119\"/>\n     <use x=\"455.859375\" xlink:href=\"#LiberationSans-111\"/>\n     <use x=\"511.474609\" xlink:href=\"#LiberationSans-114\"/>\n     <use x=\"544.775391\" xlink:href=\"#LiberationSans-100\"/>\n     <use x=\"600.390625\" xlink:href=\"#LiberationSans-115\"/>\n     <use x=\"650.390625\" xlink:href=\"#LiberationSans-32\"/>\n     <use x=\"678.173828\" xlink:href=\"#LiberationSans-102\"/>\n     <use x=\"705.957031\" xlink:href=\"#LiberationSans-114\"/>\n     <use x=\"739.257812\" xlink:href=\"#LiberationSans-101\"/>\n     <use x=\"794.873047\" xlink:href=\"#LiberationSans-113\"/>\n     <use x=\"850.488281\" xlink:href=\"#LiberationSans-117\"/>\n     <use x=\"906.103516\" xlink:href=\"#LiberationSans-101\"/>\n     <use x=\"961.71875\" xlink:href=\"#LiberationSans-110\"/>\n     <use x=\"1017.333984\" xlink:href=\"#LiberationSans-99\"/>\n     <use x=\"1067.333984\" xlink:href=\"#LiberationSans-121\"/>\n    </g>\n   </g>\n  </g>\n </g>\n <defs>\n  <clipPath id=\"p5aaaf4e72f\">\n   <rect height=\"298.98\" width=\"446.4\" x=\"45.136875\" y=\"21.89625\"/>\n  </clipPath>\n </defs>\n</svg>\n",
      "image/png": "[encoded data removed]"
     },
     "metadata": {}
    }
   ],
   "source": [
    "sns.barplot(x='words', y='frequency', data=df_allhashtag)\n",
    "plt.xticks(rotation = 80)\n",
    "plt.title('hashtag words frequency')\n",
    "plt.show()"
   ]
  },
  {
   "cell_type": "code",
   "execution_count": null,
   "metadata": {},
   "outputs": [],
   "source": []
  },
  {
   "source": [
    "## 4. Extracting Features from Cleaned Tweets"
   ],
   "cell_type": "markdown",
   "metadata": {}
  },
  {
   "source": [
    "### 1. Bag-of-words Features"
   ],
   "cell_type": "markdown",
   "metadata": {}
  },
  {
   "cell_type": "code",
   "execution_count": null,
   "metadata": {},
   "outputs": [],
   "source": [
    "bow_vectorizer = CountVectorizer(max_df= 0.90, min_df= 2,max_features=1000, stop_words='english')\n",
    "bow = bow_vectorizer.fit_transform(df['SentimentText'])\n",
    "bow.shape"
   ]
  },
  {
   "source": [
    "### 2. TF-IDF Features\n",
    "TF-IDF works by penalising the common words by assigning them lower weights while giving importance to words which are rare in the entire corpus but appear in good numbers in few documents.\n",
    "\n",
    "Let’s have a look at the important terms related to TF-IDF:\n",
    "\n",
    "* TF = (Number of times term t appears in a document)/(Number of terms in the document)\n",
    "\n",
    "* IDF = log(N/n), where, N is the number of documents and n is the number of documents a term t has appeared in.\n",
    "\n",
    "* TF-IDF = TF*IDF"
   ],
   "cell_type": "markdown",
   "metadata": {}
  },
  {
   "cell_type": "code",
   "execution_count": null,
   "metadata": {},
   "outputs": [],
   "source": [
    "tfidf_vectorizer = TfidfVectorizer(max_df=0.90, min_df=2, max_features=1000, stop_words='english')\n",
    "tfidf = tfidf_vectorizer.fit_transform(df['SentimentText'])\n",
    "tfidf.shape"
   ]
  },
  {
   "source": [
    "## 5. Model Building: Sentiment Analysis"
   ],
   "cell_type": "markdown",
   "metadata": {}
  },
  {
   "cell_type": "code",
   "execution_count": 99,
   "metadata": {},
   "outputs": [],
   "source": [
    "from sklearn.naive_bayes import MultinomialNB\n",
    "from sklearn.model_selection import train_test_split\n",
    "from sklearn.metrics import f1_score"
   ]
  },
  {
   "source": [
    "#### Bag-of-words features"
   ],
   "cell_type": "markdown",
   "metadata": {}
  },
  {
   "cell_type": "code",
   "execution_count": null,
   "metadata": {},
   "outputs": [],
   "source": [
    "train_bow = bow[:31962, :]\n",
    "test_bow = bow[31962:, :]\n",
    "# train test split\n",
    "xtrain_bow, xvalid_bow, ytrain, yvalid = train_test_split(train_bow, train['label'],random_state=42,test_size=0.3)"
   ]
  },
  {
   "source": [
    "#### TF-IDF features"
   ],
   "cell_type": "markdown",
   "metadata": {}
  },
  {
   "cell_type": "code",
   "execution_count": null,
   "metadata": {},
   "outputs": [],
   "source": [
    "train_tfidf = tfidf[:31962, :]\n",
    "test_tfidf = tfidf[31962:, :]"
   ]
  },
  {
   "cell_type": "code",
   "execution_count": null,
   "metadata": {},
   "outputs": [],
   "source": [
    "classifier1 = MultinomialNB()\n",
    "classifier1.fit(X_train, y_train)"
   ]
  },
  {
   "cell_type": "code",
   "execution_count": null,
   "metadata": {},
   "outputs": [],
   "source": [
    "y_pred = classifier1.predict(X_test)\n",
    "y_prob = classifier1.predict_proba(X_test)"
   ]
  },
  {
   "cell_type": "code",
   "execution_count": null,
   "metadata": {},
   "outputs": [],
   "source": [
    "print(f1_score(y_test, y_pred))\n",
    "print(classification_report(y_test, y_pred))\n",
    "print(confusion_matrix(y_test, y_pred))"
   ]
  },
  {
   "cell_type": "code",
   "execution_count": null,
   "metadata": {},
   "outputs": [],
   "source": [
    "model.fit(x_train,y_train)\n",
    "\n",
    "pred=model.predict(testdf.toarray())"
   ]
  },
  {
   "cell_type": "code",
   "execution_count": null,
   "metadata": {},
   "outputs": [],
   "source": [
    "sub=pd.DataFrame(testdf['ID'])"
   ]
  },
  {
   "cell_type": "code",
   "execution_count": null,
   "metadata": {},
   "outputs": [],
   "source": [
    "sub['Sentiment']=pred"
   ]
  },
  {
   "cell_type": "code",
   "execution_count": null,
   "metadata": {},
   "outputs": [],
   "source": [
    "sub.to_csv('submission.csv')"
   ]
  }
 ]
}