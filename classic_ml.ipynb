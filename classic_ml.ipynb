{
 "cells": [
  {
   "metadata": {
    "id": "DK5yIF4H7t5m",
    "trusted": true
   },
   "cell_type": "code",
   "source": [
    "PATH = 'assets/twitter_nlp/training.1600000.processed.noemoticon.csv'"
   ],
   "execution_count": 1,
   "outputs": []
  },
  {
   "metadata": {
    "id": "TtAV_bTC7t5q",
    "trusted": true
   },
   "cell_type": "code",
   "source": [
    "# !pip install -r requirements.txt\n",
    "from sklearn.model_selection import KFold\n",
    "from sklearn.model_selection import train_test_split\n",
    "from sklearn.decomposition import PCA\n",
    "from sklearn.preprocessing import LabelEncoder\n",
    "from sklearn.feature_extraction.text import TfidfVectorizer, CountVectorizer"
   ],
   "execution_count": 2,
   "outputs": []
  },
  {
   "metadata": {
    "id": "87-_quCtzm_4",
    "trusted": true
   },
   "cell_type": "code",
   "source": [
    "import nltk\n",
    "from nltk.corpus import stopwords\n",
    "from nltk.tokenize import word_tokenize\n",
    "from nltk.stem import WordNetLemmatizer\n",
    "from nltk.stem import PorterStemmer\n",
    "from collections import Counter"
   ],
   "execution_count": 3,
   "outputs": []
  },
  {
   "metadata": {
    "id": "HkaQIWnE7t5q",
    "trusted": true
   },
   "cell_type": "code",
   "source": [
    "import re\n",
    "import os\n",
    "import pandas as pd\n",
    "import numpy as np"
   ],
   "execution_count": 4,
   "outputs": []
  },
  {
   "metadata": {
    "id": "jrzevoJP7t5r",
    "trusted": true
   },
   "cell_type": "code",
   "source": [
    "# visualization\n",
    "import seaborn as sn\n",
    "import matplotlib.pyplot as plt\n",
    "%matplotlib inline\n",
    "plt.style.use('ggplot')"
   ],
   "execution_count": 5,
   "outputs": []
  },
  {
   "metadata": {
    "id": "2bMPCC3y7t5r",
    "trusted": true
   },
   "cell_type": "code",
   "source": [
    "from sklearn.cluster import KMeans\n",
    "from sklearn.cluster import MiniBatchKMeans\n",
    "from sklearn.svm import SVC\n",
    "from sklearn.linear_model import LogisticRegression\n",
    "from sklearn.ensemble import RandomForestClassifier\n",
    "from sklearn.naive_bayes import MultinomialNB"
   ],
   "execution_count": 6,
   "outputs": []
  },
  {
   "metadata": {
    "id": "pJn9-Spd7t5s",
    "trusted": true
   },
   "cell_type": "code",
   "source": [
    "from sklearn.metrics import classification_report\n",
    "from sklearn.metrics import homogeneity_score\n",
    "from sklearn.metrics import silhouette_score\n",
    "from sklearn.metrics import accuracy_score\n",
    "from sklearn.metrics import roc_auc_score\n",
    "from sklearn.metrics import confusion_matrix"
   ],
   "execution_count": 7,
   "outputs": []
  },
  {
   "metadata": {
    "id": "nOnFe6ra7t5s"
   },
   "cell_type": "markdown",
   "source": [
    "## **2. Data exploratory analysis**\n"
   ]
  },
  {
   "metadata": {
    "id": "x48DnLDb7t5t"
   },
   "cell_type": "markdown",
   "source": [
    "### **2.1 Data overview**\n"
   ]
  },
  {
   "metadata": {
    "id": "Ho9YteIj7t5t"
   },
   "cell_type": "markdown",
   "source": [
    "\n",
    "**Dataset**\n",
    "The dataset being used is the given competition twitter  dataset. It contains over 1M tweets. The tweets have been annotated (0 = Negative, 4 = Positive) and they can be used to detect sentiment.\n",
    "We will use 100K tweets: 50K tweets with negative sentiment  (annotated as “negative”) and 50K tweets with positive sentiment (annotated as “positive”).\n",
    "The dataset contains 6 different fields, we will focus the following:\n",
    "    Target (Sentiment): the emotion of the tweet (0 = negative, 4 = positive)\n",
    "    Text: the text of the tweet"
   ]
  },
  {
   "metadata": {
    "id": "twyDqVf97t5t"
   },
   "cell_type": "markdown",
   "source": [
    "### **2.2 Data Exploration**"
   ]
  },
  {
   "metadata": {
    "id": "t7R2_42p7t5u"
   },
   "cell_type": "markdown",
   "source": [
    "The first step is to load the data to global environment."
   ]
  },
  {
   "metadata": {
    "id": "TigiU-nyzn4K",
    "trusted": true
   },
   "cell_type": "code",
   "source": [
    "DATASET_ENCODING = \"ISO-8859-1\"\n",
    "raw_df = pd.read_csv(PATH,encoding=DATASET_ENCODING)\n",
    "df = pd.DataFrame(columns=[\"Sentiment\", \"SentimentText\"])\n",
    "df = df.fillna(0)\n",
    "\n",
    "negative = 0\n",
    "positive = 0\n",
    "for index, row in raw_df.iterrows():\n",
    "    if negative < 50000 and row[0] == 0:\n",
    "        df[\"Sentiment\"] = row[0]\n",
    "        df[\"SentimentText\"] = row[5]\n",
    "        negative+=1\n",
    "    elif positive < 50000 and row[0] == 4:\n",
    "        df[\"Sentiment\"] = row[0]\n",
    "        df[\"SentimentText\"] = row[5]\n",
    "        positive+=1\n",
    "    elif positive == 50000 and negative == 50000:\n",
    "        break\n"
   ],
   "execution_count": 8,
   "outputs": []
  },
  {
   "metadata": {
    "id": "ib4RRNgL7t5u"
   },
   "cell_type": "markdown",
   "source": [
    "We could see some abnormal words such as <br /><br />, then we should replace them by a null or space value."
   ]
  },
  {
   "metadata": {
    "id": "N2mypTdx7t5x"
   },
   "cell_type": "markdown",
   "source": [
    "### **2.3 Data pre-processing**"
   ]
  },
  {
   "metadata": {
    "id": "HoJs-9B_0fa1"
   },
   "cell_type": "markdown",
   "source": [
    "**Text Cleaning**\n",
    "\n",
    "0.Label Encoder\n",
    "\n",
    "1.Remove html tags\n",
    "\n",
    "2.Remove special characters\n",
    "\n",
    "3.Converting every thing to lower case\n",
    "\n",
    "4.Removing Stop words\n",
    "\n",
    "5.Stemming\n",
    "\n",
    "6.Remove extra spaces\n",
    "\n",
    "7.Lemmatization"
   ]
  },
  {
   "metadata": {
    "id": "m0c9Mhd27t5x",
    "outputId": "b62b9b54-736c-4a30-c245-463c36db9863",
    "trusted": true
   },
   "cell_type": "code",
   "source": [
    "label_encoder = LabelEncoder()\n",
    "df['Sentiment'] = label_encoder.fit_transform(df['Sentiment'])\n",
    "df.head()"
   ],
   "execution_count": 9,
   "outputs": [
    {
     "output_type": "execute_result",
     "execution_count": 9,
     "data": {
      "text/plain": "   Sentiment                                      SentimentText\n0          1  @coffeebased thanks so much  hehe. Will be twe...\n1          0  @cakes4rockstarz at least  it'd be a delicious...\n2          1  @bretharrison Reaper's my favorite show! Kept ...\n3          0  @AGraham1206 Lotsa work....   I'm trying to ge...\n4          1  @ 4:30 I will Tweet the #Zazzle galleries for ...",
      "text/html": "<div>\n<style scoped>\n    .dataframe tbody tr th:only-of-type {\n        vertical-align: middle;\n    }\n\n    .dataframe tbody tr th {\n        vertical-align: top;\n    }\n\n    .dataframe thead th {\n        text-align: right;\n    }\n</style>\n<table border=\"1\" class=\"dataframe\">\n  <thead>\n    <tr style=\"text-align: right;\">\n      <th></th>\n      <th>Sentiment</th>\n      <th>SentimentText</th>\n    </tr>\n  </thead>\n  <tbody>\n    <tr>\n      <th>0</th>\n      <td>1</td>\n      <td>@coffeebased thanks so much  hehe. Will be twe...</td>\n    </tr>\n    <tr>\n      <th>1</th>\n      <td>0</td>\n      <td>@cakes4rockstarz at least  it'd be a delicious...</td>\n    </tr>\n    <tr>\n      <th>2</th>\n      <td>1</td>\n      <td>@bretharrison Reaper's my favorite show! Kept ...</td>\n    </tr>\n    <tr>\n      <th>3</th>\n      <td>0</td>\n      <td>@AGraham1206 Lotsa work....   I'm trying to ge...</td>\n    </tr>\n    <tr>\n      <th>4</th>\n      <td>1</td>\n      <td>@ 4:30 I will Tweet the #Zazzle galleries for ...</td>\n    </tr>\n  </tbody>\n</table>\n</div>"
     },
     "metadata": {}
    }
   ]
  },
  {
   "metadata": {
    "id": "ATF_Itt07t5y",
    "outputId": "a75bafaa-9bd2-4f2f-845d-7e978ea68bd1",
    "trusted": true
   },
   "cell_type": "code",
   "source": [
    "nltk.download('stopwords')\n",
    "stop_words = set(stopwords.words(\"english\"))"
   ],
   "execution_count": 10,
   "outputs": [
    {
     "output_type": "stream",
     "text": "[nltk_data] Downloading package stopwords to /usr/share/nltk_data...\n[nltk_data]   Package stopwords is already up-to-date!\n",
     "name": "stdout"
    }
   ]
  },
  {
   "metadata": {
    "trusted": true
   },
   "cell_type": "code",
   "source": [
    "# Reading contractions.csv and storing it as a dict.\n",
    "con_path = '../input/semtiment-data/contractions.csv'\n",
    "contractions = pd.read_csv(con_path,index_col='Contraction')\n",
    "contractions.index = contractions.index.str.lower()\n",
    "contractions.Meaning = contractions.Meaning.str.lower()\n",
    "contractions_dict = contractions.to_dict()['Meaning']\n",
    "\n",
    "# Defining regex patterns.\n",
    "urlPattern        = r\"((http://)[^ ]*|(https://)[^ ]*|(www\\.)[^ ]*)\"\n",
    "userPattern       = '@[^\\s]+'\n",
    "hashtagPattern    = '#[^\\s]+'\n",
    "alphaPattern      = \"[^a-z0-9<>]\"\n",
    "sequencePattern   = r\"(.)\\1\\1+\"\n",
    "seqReplacePattern = r\"\\1\\1\"\n",
    "\n",
    "# Defining regex for emojis\n",
    "smileemoji        = r\"[8:=;]['`\\-]?[)d]+\"\n",
    "sademoji          = r\"[8:=;]['`\\-]?\\(+\"\n",
    "neutralemoji      = r\"[8:=;]['`\\-]?[\\/|l*]\"\n",
    "lolemoji          = r\"[8:=;]['`\\-]?p+\"\n",
    "\n",
    "def preprocess_apply(tweet):\n",
    "    tweet = tweet.lower()\n",
    "    \n",
    "    # Replace all URls with '<url>'\n",
    "    tweet = re.sub(urlPattern,'<url>',tweet)\n",
    "    \n",
    "    # Replace @USERNAME to '<user>'.\n",
    "    tweet = re.sub(userPattern,'<user>', tweet)\n",
    "    \n",
    "    # Replace 3 or more consecutive letters by 2 letter.\n",
    "    tweet = re.sub(sequencePattern, seqReplacePattern, tweet)\n",
    "    \n",
    "    # Replace all emojis.\n",
    "    tweet = re.sub(r'<3', '<heart>', tweet)\n",
    "    tweet = re.sub(smileemoji, '<smile>', tweet)\n",
    "    tweet = re.sub(sademoji, '<sadface>', tweet)\n",
    "    tweet = re.sub(neutralemoji, '<neutralface>', tweet)\n",
    "    tweet = re.sub(lolemoji, '<lolface>', tweet)\n",
    "    for contraction, replacement in contractions_dict.items():\n",
    "        tweet = tweet.replace(contraction, replacement)\n",
    "    \n",
    "    # Remove non-alphanumeric and symbols\n",
    "    tweet = re.sub(alphaPattern, ' ', tweet)\n",
    "    \n",
    "    # Adding space on either side of '/' to seperate words (After replacing URLS).\n",
    "    tweet = re.sub(r'/', ' / ', tweet)\n",
    "    return tweet\n",
    "\n",
    "df['SentimentText'] = df.SentimentText.apply(preprocess_apply)"
   ],
   "execution_count": 11,
   "outputs": []
  },
  {
   "metadata": {
    "id": "eZhD8qFa7t5z"
   },
   "cell_type": "markdown",
   "source": [
    "**Stop Words Removal**\n",
    "\n",
    "We'll remove the stop words for better prediction."
   ]
  },
  {
   "metadata": {
    "id": "OM2dasP47t5z",
    "outputId": "ac95abe5-5c73-478e-f585-892b30102183",
    "trusted": true
   },
   "cell_type": "code",
   "source": [
    "from tqdm import tqdm\n",
    "nltk.download('punkt')\n",
    "pbar = tqdm(total=df.shape[0], leave=True, position=0)\n",
    "\n",
    "def remove_sw(SentimentText):\n",
    "    tokens = word_tokenize(SentimentText)\n",
    "    tokens = [w for w in tokens if not w in stop_words]\n",
    "    pbar.update(1)\n",
    "    return \" \".join(tokens)\n",
    "\n",
    "df[\"SentimentText\"] = df[\"SentimentText\"].apply(remove_sw)\n",
    "pbar.close()"
   ],
   "execution_count": 12,
   "outputs": [
    {
     "output_type": "stream",
     "text": "  1%|          | 407/79998 [00:00<00:19, 4065.68it/s]",
     "name": "stderr"
    },
    {
     "output_type": "stream",
     "text": "[nltk_data] Downloading package punkt to /usr/share/nltk_data...\n[nltk_data]   Package punkt is already up-to-date!\n",
     "name": "stdout"
    },
    {
     "output_type": "stream",
     "text": "100%|██████████| 79998/79998 [00:17<00:00, 4534.27it/s]\n",
     "name": "stderr"
    }
   ]
  },
  {
   "metadata": {
    "id": "Ebb3PAO47t5z"
   },
   "cell_type": "markdown",
   "source": [
    "**Porter Stemmer**\n",
    "\n",
    "For this particular dataset the PorterStemmer does not bring better performance, so it is better to skip this step."
   ]
  },
  {
   "metadata": {
    "id": "FQS-rhtY0qEp",
    "outputId": "d117ee1c-cb65-4396-bb55-65589837fa97",
    "trusted": true
   },
   "cell_type": "code",
   "source": [
    "pbar = tqdm(total=df.shape[0], leave=True, position=0)\n",
    "ps = PorterStemmer()\n",
    "\n",
    "def stem(text):\n",
    "    pbar.update(1)\n",
    "    return ' '.join([ps.stem(word) for word in text.split()])\n",
    "\n",
    "df[\"SentimentText\"] = df[\"SentimentText\"].apply(stem)\n",
    "pbar.close()"
   ],
   "execution_count": 13,
   "outputs": [
    {
     "output_type": "stream",
     "text": "100%|██████████| 79998/79998 [00:20<00:00, 3990.04it/s]\n",
     "name": "stderr"
    }
   ]
  },
  {
   "metadata": {
    "id": "WXblOqOj7t50",
    "outputId": "aa4091c3-6643-4a14-c297-293d72efdc0d",
    "trusted": true
   },
   "cell_type": "code",
   "source": [
    "nltk.download('punkt')\n",
    "#Creating a Lemmatizer for preprocessing\n",
    "class LemmaTokenizer:\n",
    "    def __init__(self):\n",
    "        self.wnl = WordNetLemmatizer()\n",
    "    def __call__(self, doc):\n",
    "        return [self.wnl.lemmatize(t) for t in word_tokenize(doc)]"
   ],
   "execution_count": 14,
   "outputs": [
    {
     "output_type": "stream",
     "text": "[nltk_data] Downloading package punkt to /usr/share/nltk_data...\n[nltk_data]   Package punkt is already up-to-date!\n",
     "name": "stdout"
    }
   ]
  },
  {
   "metadata": {
    "id": "8LzxOHtJ7t50",
    "trusted": true
   },
   "cell_type": "code",
   "source": [
    "df[\"SentimentText\"] = df[\"SentimentText\"].apply(lambda x: re.sub(\" +\",\" \", x))"
   ],
   "execution_count": 15,
   "outputs": []
  },
  {
   "cell_type": "code",
   "execution_count": null,
   "outputs": [],
   "source": [
    "# Sentiment reviews distribution\n",
    "s = df['sentiment'].value_counts()\n",
    "s = (s/s.sum())*100\n",
    "\n",
    "plt.figure()\n",
    "bars = plt.bar(s.index, s.values, color = ['green', 'red'], alpha = .6)\n",
    "plt.xticks(s.index, ['Positive', 'Negative'], fontsize = 15)\n",
    "plt.tick_params(bottom = False, top = False, left = False, right = False, labelleft = False)\n",
    "for spine in plt.gca().spines.values():\n",
    "    spine.set_visible(False)\n",
    "for bar in bars:\n",
    "    plt.text(bar.get_x() + bar.get_width()/2, bar.get_height() - 5, s = str(bar.get_height())[:2] + '%', ha = 'center', fontsize = 15)\n",
    "plt.title('Reviews polarity', fontsize = 17)"
   ],
   "metadata": {
    "collapsed": false,
    "pycharm": {
     "name": "#%%\n"
    }
   }
  },
  {
   "metadata": {
    "id": "dXDprN1i6OlJ",
    "trusted": true
   },
   "cell_type": "code",
   "source": [
    "X = df['SentimentText']\n",
    "y = df['Sentiment']"
   ],
   "execution_count": 16,
   "outputs": []
  },
  {
   "metadata": {
    "id": "xoKXLtZi7t54"
   },
   "cell_type": "markdown",
   "source": [
    "Split data to train and test for modeling and performance evaluation."
   ]
  },
  {
   "metadata": {
    "id": "kIeTkIFa1Byt",
    "outputId": "6f7d8a71-6857-4e1e-897d-5348e29f2132",
    "trusted": true
   },
   "cell_type": "code",
   "source": [
    "X_train, X_test, y_train, y_test = train_test_split(X, y, test_size=0.10, random_state=42)\n",
    "\n",
    "print('Training dataset : {} SentimentTexts'.format(X_train.shape[0]))\n",
    "print('Testing dataset : {} SentimentTexts'.format(X_test.shape[0]))"
   ],
   "execution_count": 17,
   "outputs": [
    {
     "output_type": "stream",
     "text": "Training dataset : 71998 SentimentTexts\nTesting dataset : 8000 SentimentTexts\n",
     "name": "stdout"
    }
   ]
  },
  {
   "metadata": {
    "id": "kxGk8KXE7t54",
    "outputId": "275ba806-54b0-4856-f3ef-7db3729a44db",
    "trusted": true
   },
   "cell_type": "code",
   "source": [
    "y_test.value_counts()"
   ],
   "execution_count": 18,
   "outputs": [
    {
     "output_type": "execute_result",
     "execution_count": 18,
     "data": {
      "text/plain": "1    4516\n0    3484\nName: Sentiment, dtype: int64"
     },
     "metadata": {}
    }
   ]
  },
  {
   "metadata": {
    "id": "aT4YKKBjAuhm"
   },
   "cell_type": "markdown",
   "source": [
    "## **3. Modeling**"
   ]
  },
  {
   "metadata": {
    "id": "I53-aoEu7t55"
   },
   "cell_type": "markdown",
   "source": [
    "### 3.1 Feature Extraction using TF-IDF algorithm\n",
    "\n",
    "![TFIDF](https://miro.medium.com/max/532/0*bHkPdhgfnyTs4un_)\n",
    "\n",
    "In scikit-learn, the TF-IDF algorithm is implemented using **TfidfTransformer**. This transformer needs the count matrix which it will transform later. Hence, we use **CountVectorizer** first.\n",
    "Alternatively, one can use **TfidfVectorizer**, which is the equivalent of CountVectorizer followed by TfidfTransformer"
   ]
  },
  {
   "metadata": {
    "id": "03QUaef_1BsZ",
    "outputId": "d144758e-f122-48a5-efd6-56533b2bb9e8",
    "trusted": true
   },
   "cell_type": "code",
   "source": [
    "nltk.download('wordnet')\n",
    "tfidfVect =    TfidfVectorizer( max_df = 0.5,\n",
    "                                sublinear_tf=True,\n",
    "                                lowercase = True, \n",
    "                                ngram_range = (1,2), \n",
    "                                tokenizer = LemmaTokenizer(),\n",
    "                                stop_words = 'english',\n",
    "                                min_df = 1,\n",
    "                                use_idf = True,\n",
    "                                # max_features = 1000,\n",
    "                                strip_accents = 'ascii'\n",
    "                                )"
   ],
   "execution_count": 19,
   "outputs": [
    {
     "output_type": "stream",
     "text": "[nltk_data] Downloading package wordnet to /usr/share/nltk_data...\n[nltk_data]   Package wordnet is already up-to-date!\n",
     "name": "stdout"
    }
   ]
  },
  {
   "metadata": {
    "id": "xy5Kji8F7t55",
    "outputId": "b6407d1a-3adb-42b2-fabe-6fc1f61f72e3",
    "trusted": true
   },
   "cell_type": "code",
   "source": [
    "%time features = tfidfVect.fit_transform(X_train)\n",
    "features.shape"
   ],
   "execution_count": 20,
   "outputs": [
    {
     "output_type": "stream",
     "text": "/opt/conda/lib/python3.7/site-packages/sklearn/feature_extraction/text.py:386: UserWarning: Your stop_words may be inconsistent with your preprocessing. Tokenizing the stop words generated tokens ['ha', 'le', 'u', 'wa'] not in stop_words.\n  'stop_words.' % sorted(inconsistent))\n",
     "name": "stderr"
    },
    {
     "output_type": "stream",
     "text": "CPU times: user 22 s, sys: 219 ms, total: 22.2 s\nWall time: 22.3 s\n",
     "name": "stdout"
    },
    {
     "output_type": "execute_result",
     "execution_count": 20,
     "data": {
      "text/plain": "(71998, 301229)"
     },
     "metadata": {}
    }
   ]
  },
  {
   "metadata": {
    "id": "qsa2RRxP2JPg",
    "trusted": true
   },
   "cell_type": "code",
   "source": [
    "features_test = tfidfVect.transform(X_test)"
   ],
   "execution_count": 21,
   "outputs": []
  },
  {
   "metadata": {
    "id": "hRMY4_Zi7t59"
   },
   "cell_type": "markdown",
   "source": [
    "## Prediction Models: Logistic Regression and DNN"
   ]
  },
  {
   "cell_type": "markdown",
   "source": [
    "## TfIdfVectorizer Feature Extraction\n",
    "\n",
    "**Logistic Regression**"
   ],
   "metadata": {
    "collapsed": false
   }
  },
  {
   "cell_type": "code",
   "execution_count": null,
   "outputs": [],
   "source": [
    "from sklearn.linear_model import LogisticRegression\n",
    "#instantiate the model (with the default parameters)\n",
    "lr = LogisticRegression()\n",
    "\n",
    "#fit the model with data (occurs in-place)\n",
    "lr.fit(features, y_train)\n",
    "\n",
    "from sklearn.pipeline import Pipeline\n",
    "from sklearn.model_selection import GridSearchCV\n",
    "\n",
    "#tune parameters - hyper parameter optimizer\n",
    "lr_clf = Pipeline([('vect', TfidfVectorizer()),('clf', LogisticRegression())])\n",
    "parameters =  {'vect__max_df': (0.1,0.5),'clf__tol': (0.0001,0.001)}\n",
    "gs_clf_b = GridSearchCV(lr_clf, parameters, n_jobs=1, cv=KFold(n_splits=10, shuffle=True, random_state=0))\n",
    "gs_clf_b = gs_clf_b.fit(X_train,y_train)\n",
    "print('Best score: ',gs_clf_b.best_score_)\n",
    "print('Best params: ',gs_clf_b.best_params_)\n"
   ],
   "metadata": {
    "collapsed": false,
    "pycharm": {
     "name": "#%%\n"
    }
   }
  },
  {
   "cell_type": "markdown",
   "source": [
    "**DNN**"
   ],
   "metadata": {
    "collapsed": false,
    "pycharm": {
     "name": "#%% md\n"
    }
   }
  },
  {
   "cell_type": "code",
   "execution_count": null,
   "outputs": [],
   "source": [
    "import re\n",
    "import pickle\n",
    "import numpy as np\n",
    "import pandas as pd\n",
    "import tensorflow.keras.metrics as metrics\n",
    "from gensim.models import KeyedVectors\n",
    "from tensorflow.keras.preprocessing.text import Tokenizer\n",
    "from tensorflow.keras.preprocessing.sequence import pad_sequences\n",
    "from tensorflow.keras import Sequential\n",
    "from tensorflow.keras.layers import Bidirectional, GlobalMaxPool1D, Dense, LSTM, Conv1D, Embedding\n",
    "from tensorflow.keras.models import save_model\n",
    "from tensorflow.keras.callbacks import EarlyStopping, ReduceLROnPlateau,TensorBoard\n",
    "\n",
    "# Defining the model input length.\n",
    "input_length = 60\n",
    "tokenizer = Tokenizer(filters=\"\", lower=False, oov_token=\"<oov>\")\n",
    "tokenizer.fit_on_texts(X_train)\n",
    "vocab_length = len(tokenizer.word_index) + 1\n",
    "print(\"Tokenizer vocab length:\", vocab_length)\n",
    "cbow = KeyedVectors.load('assets/cbow')\n",
    "X_data = pad_sequences(tokenizer.texts_to_sequences(X_train), maxlen=input_length)\n",
    "\n",
    "print(\"X_train.shape:\", X_data.shape)\n",
    "\n",
    "features = tfidfVect.fit_transform(X_data)\n",
    "\n",
    "Embedding_dimensions = 100\n",
    "embedding_matrix = np.zeros((vocab_length, Embedding_dimensions))\n",
    "\n",
    "for word, token in tokenizer.word_index.items():\n",
    "    if cbow.wv.__contains__(word):\n",
    "        embedding_matrix[token] = cbow.wv.__getitem__(word)\n",
    "\n",
    "print(\"Embedding Matrix Shape:\", embedding_matrix.shape)\n",
    "\n",
    "def getModel():\n",
    "    embedding_layer = Embedding(input_dim = vocab_length,\n",
    "                                output_dim = Embedding_dimensions,\n",
    "                                weights=[embedding_matrix],\n",
    "                                input_length=input_length,\n",
    "                                trainable=False)\n",
    "    model = Sequential([\n",
    "        embedding_layer,\n",
    "        Bidirectional(LSTM(100, dropout=0.3, return_sequences=True)),\n",
    "        Bidirectional(LSTM(100, dropout=0.3, return_sequences=True)),\n",
    "        Conv1D(100, 5, activation='relu'),\n",
    "        GlobalMaxPool1D(),\n",
    "        Dense(16, activation='relu'),\n",
    "        Dense(1, activation='sigmoid'),\n",
    "    ])\n",
    "    return model\n",
    "\n",
    "training_model = getModel()\n",
    "print(training_model.summary())\n",
    "\n",
    "tensor_board = TensorBoard(\n",
    "    log_dir='logs', histogram_freq=0, write_graph=True,\n",
    "    write_images=True, update_freq='epoch', profile_batch=2,\n",
    "    embeddings_freq=0, embeddings_metadata=None\n",
    ")\n",
    "\n",
    "callbacks = [ReduceLROnPlateau(monitor='val_loss', patience=5, cooldown=0),\n",
    "             EarlyStopping(monitor='val_acc', min_delta=1e-6, patience=15),\n",
    "             tensor_board\n",
    "             ]\n",
    "\n",
    "mymetrics=['acc',metrics.Precision(), metrics.Recall(), metrics.AUC(), metrics.RootMeanSquaredError()]\n",
    "\n",
    "training_model.compile(loss='binary_crossentropy', optimizer='adam', metrics=mymetrics)\n",
    "history = training_model.fit(\n",
    "    features,\n",
    "    y_train,\n",
    "    batch_size=4096,\n",
    "    epochs=50,\n",
    "    validation_split=0.05,\n",
    "    callbacks=callbacks,\n",
    "    verbose=1\n",
    ")\n",
    "\n",
    "#tune parameters - hyper parameter optimizer\n",
    "dnn_clf = Pipeline([('vect', TfidfVectorizer()),('clf', getModel())])\n",
    "parameters =  {'vect__max_df': (0.1,0.5),'clf__tol': (0.0001,0.001)}\n",
    "gs_clf_b = GridSearchCV(dnn_clf, parameters, n_jobs=1, cv=KFold(n_splits=10, shuffle=True, random_state=0))\n",
    "gs_clf_b = gs_clf_b.fit(X_train,y_train)\n",
    "print('Best score: ',gs_clf_b.best_score_)\n",
    "print('Best params: ',gs_clf_b.best_params_)\n",
    "\n",
    "\n",
    "# Saving the tokenizer\n",
    "with open('Tokenizer.pickle', 'wb') as file:\n",
    "    pickle.dump(tokenizer, file)\n",
    "save_model(training_model, 'ModelisSaved', )"
   ],
   "metadata": {
    "collapsed": false,
    "pycharm": {
     "name": "#%%\n"
    }
   }
  },
  {
   "metadata": {
    "id": "BeUJKV2h7t6F"
   },
   "cell_type": "markdown",
   "source": [
    "## Evaluation"
   ]
  },
  {
   "metadata": {
    "trusted": true
   },
   "cell_type": "code",
   "source": [
    "from sklearn.metrics import accuracy_score\n",
    "from sklearn.metrics import recall_score\n",
    "from sklearn.metrics import precision_score"
   ],
   "execution_count": 37,
   "outputs": []
  },
  {
   "cell_type": "code",
   "execution_count": null,
   "outputs": [],
   "source": [
    "pred = lr.predict(features_test)\n",
    "pred = pd.DataFrame(pred)\n",
    "print(accuracy_score(y_test, pred))\n",
    "print(recall_score(y_test, pred))\n",
    "print(precision_score(y_test, pred))"
   ],
   "metadata": {
    "collapsed": false,
    "pycharm": {
     "name": "#%%\n"
    }
   }
  },
  {
   "metadata": {
    "trusted": true
   },
   "cell_type": "code",
   "source": [
    "sn.heatmap(confusion_matrix(y_test, pred), annot=True, cmap=\"icefire\",xticklabels=['Negative', 'Positive'],yticklabels=\n",
    "['Negative', 'Positive'], fmt='g')\n",
    "\n",
    "sn.color_palette(\"pastel\")\n",
    "plt.xlabel('Predicted')\n",
    "plt.ylabel('Actual')\n",
    "plt.title('LogisticRegression Confusion Matrix')"
   ],
   "execution_count": 41,
   "outputs": [
    {
     "output_type": "execute_result",
     "execution_count": 41,
     "data": {
      "text/plain": "Text(0.5, 1.0, 'LogisticRegression Confusion Matrix')"
     },
     "metadata": {}
    },
    {
     "output_type": "display_data",
     "data": {
      "text/plain": "<Figure size 432x288 with 2 Axes>",
      "image/png": "[encoded data removed]"
     },
     "metadata": {}
    }
   ]
  },
  {
   "metadata": {},
   "cell_type": "markdown",
   "source": [
    "# 10FOLD CROSS VALIDATION approach"
   ]
  },
  {
   "metadata": {
    "trusted": true
   },
   "cell_type": "code",
   "source": [
    "import matplotlib.pyplot as pyplot\n",
    "def show_metrics(title,accuracy,precision,recall):\n",
    "    # joined graph\n",
    "    pyplot.title(title)\n",
    "    pyplot.plot(accuracy, label='accuracy')\n",
    "    pyplot.legend()\n",
    "    pyplot.plot(precision, label='precision')\n",
    "    pyplot.legend()\n",
    "    pyplot.plot(recall, label='recall')\n",
    "    pyplot.legend(loc=\"center left\")\n",
    "    pyplot.show()\n",
    "    \n",
    "    # seperated graphs\n",
    "    pyplot.title(f\"Accuracy\")\n",
    "    pyplot.plot(accuracy, label='accuracy')\n",
    "    pyplot.legend()\n",
    "    pyplot.show()\n",
    "    pyplot.title(f\"Precision\")\n",
    "    pyplot.plot(precision, label='precision')\n",
    "    pyplot.legend()\n",
    "    pyplot.show()\n",
    "    pyplot.title(f\"Recall:\")\n",
    "    pyplot.plot(recall, label='recall')\n",
    "    pyplot.legend()\n",
    "    pyplot.show()"
   ],
   "execution_count": 42,
   "outputs": []
  },
  {
   "cell_type": "markdown",
   "source": [
    "# logistic regression TFIDF"
   ],
   "metadata": {
    "collapsed": false
   }
  },
  {
   "cell_type": "code",
   "execution_count": null,
   "outputs": [],
   "source": [
    "from sklearn.model_selection import KFold\n",
    "lr_tfidf_fold_models = []\n",
    "lr_tfidf_fold_accuracy = []\n",
    "lr_tfidf_fold_precision = []\n",
    "lr_tfidf_fold_recall = []\n",
    "max_accuracy = 0\n",
    "lr_tfidf_best_confusion_matrix = []\n",
    "\n",
    "k_fold = KFold(n_splits=10, shuffle=False)\n",
    "counter = 1\n",
    "tfidf_features = tfidfVect.fit_transform(X)\n",
    "for train_index, validation_index in k_fold.split(tfidf_features):\n",
    "\n",
    "    logistic_regression = LogisticRegression(random_state=0, max_iter = 1000)\n",
    "    X_train = tfidf_features[train_index]\n",
    "    Y_train = y[train_index]\n",
    "    logistic_regression.fit(X_train,Y_train)\n",
    "\n",
    "    X_valid = tfidf_features[validation_index]\n",
    "    Y_valid = y[validation_index]\n",
    "    Y_valid = Y_valid.values\n",
    "    predictions = logistic_regression.predict(X_valid)\n",
    "\n",
    "    lr_tfidf_fold_models.append(logistic_regression)\n",
    "    lr_tfidf_fold_accuracy.append(accuracy_score(Y_valid, predictions))\n",
    "    lr_tfidf_fold_precision.append(precision_score(Y_valid, predictions))\n",
    "    lr_tfidf_fold_recall.append(recall_score(Y_valid, predictions))\n",
    "\n",
    "    print(f'--------------- Fold {counter} ------------------')\n",
    "    print(f\"Accuracy: {lr_tfidf_fold_accuracy[counter-1]} \")\n",
    "    print(f\"Precision: {lr_tfidf_fold_precision[counter-1]} \")\n",
    "    print(f\"Recall: {lr_tfidf_fold_recall[counter-1]} \")\n",
    "    if max_accuracy < lr_tfidf_fold_accuracy[counter-1]:\n",
    "        lr_tfidf_best_confusion_matrix = confusion_matrix(Y_valid,predictions)\n",
    "        max_accuracy = lr_tfidf_fold_accuracy[counter-1]\n",
    "    counter+=1\n",
    "\n",
    "\n",
    "print('-----------------------------------------')\n",
    "show_metrics('Logistic Regression - TFIDFvectorization',lr_tfidf_fold_accuracy,lr_tfidf_fold_precision,lr_tfidf_fold_recall)"
   ],
   "metadata": {
    "collapsed": false,
    "pycharm": {
     "name": "#%%\n"
    }
   }
  },
  {
   "metadata": {},
   "cell_type": "markdown",
   "source": [
    "# HEATMAPS"
   ]
  },
  {
   "metadata": {
    "trusted": true
   },
   "cell_type": "code",
   "source": [
    "sn.heatmap(lr_tfidf_best_confusion_matrix, annot=True, cmap=\"icefire\",xticklabels=['Negative', 'Positive'],yticklabels=\n",
    "['Negative', 'Positive'], fmt='g')\n",
    "sn.color_palette(\"pastel\")\n",
    "plt.xlabel('Predicted')\n",
    "plt.ylabel('Actual')\n",
    "plt.title('Logistic Regression TFIDF')\n",
    "plt.show()"
   ],
   "execution_count": 53,
   "outputs": [
    {
     "output_type": "display_data",
     "data": {
      "text/plain": "<Figure size 432x288 with 2 Axes>",
      "image/png": "[encoded data removed]"
     },
     "metadata": {}
    },
    {
     "output_type": "display_data",
     "data": {
      "text/plain": "<Figure size 432x288 with 2 Axes>",
      "image/png": "[encoded data removed]"
     },
     "metadata": {}
    },
    {
     "output_type": "display_data",
     "data": {
      "text/plain": "<Figure size 432x288 with 2 Axes>",
      "image/png": "[encoded data removed]"
     },
     "metadata": {}
    },
    {
     "output_type": "display_data",
     "data": {
      "text/plain": "<Figure size 432x288 with 2 Axes>",
      "image/png": "[encoded data removed]"
     },
     "metadata": {}
    },
    {
     "output_type": "display_data",
     "data": {
      "text/plain": "<Figure size 432x288 with 2 Axes>",
      "image/png": "[encoded data removed]"
     },
     "metadata": {}
    },
    {
     "output_type": "display_data",
     "data": {
      "text/plain": "<Figure size 432x288 with 2 Axes>",
      "image/png": "[encoded data removed]"
     },
     "metadata": {}
    }
   ]
  }
 ],
 "metadata": {
  "kernelspec": {
   "language": "python",
   "display_name": "Python 3",
   "name": "python3"
  },
  "language_info": {
   "name": "python",
   "version": "3.7.6",
   "mimetype": "text/x-python",
   "codemirror_mode": {
    "name": "ipython",
    "version": 3
   },
   "pygments_lexer": "ipython3",
   "nbconvert_exporter": "python",
   "file_extension": ".py"
  }
 },
 "nbformat": 4,
 "nbformat_minor": 4
}